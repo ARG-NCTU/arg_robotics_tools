{
 "cells": [
  {
   "cell_type": "code",
   "execution_count": null,
   "id": "6d0ee455",
   "metadata": {},
   "outputs": [],
   "source": [
    "# default_exp anchor_logging"
   ]
  },
  {
   "cell_type": "markdown",
   "id": "69beb936",
   "metadata": {},
   "source": [
    "# Anchor logging\n",
    "    this notebook is to test anchor logging file"
   ]
  },
  {
   "cell_type": "code",
   "execution_count": null,
   "id": "66172eab",
   "metadata": {},
   "outputs": [],
   "source": [
    "#hide \n",
    "from nbdev.showdoc import *"
   ]
  },
  {
   "cell_type": "code",
   "execution_count": null,
   "id": "12756b7e",
   "metadata": {},
   "outputs": [],
   "source": []
  }
 ],
 "metadata": {
  "kernelspec": {
   "display_name": "Python 3 (ipykernel)",
   "language": "python",
   "name": "python3"
  },
  "language_info": {
   "codemirror_mode": {
    "name": "ipython",
    "version": 3
   },
   "file_extension": ".py",
   "mimetype": "text/x-python",
   "name": "python",
   "nbconvert_exporter": "python",
   "pygments_lexer": "ipython3",
   "version": "3.8.10"
  }
 },
 "nbformat": 4,
 "nbformat_minor": 5
}
