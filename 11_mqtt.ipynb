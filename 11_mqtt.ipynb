{
 "cells": [
  {
   "cell_type": "code",
   "execution_count": null,
   "metadata": {},
   "outputs": [],
   "source": [
    "#| default_exp mqtt"
   ]
  },
  {
   "cell_type": "markdown",
   "metadata": {},
   "source": [
    "# mqtt\n",
    "\n",
    "> This notebook is a toolset for arg mysql, database : robotxdb, table : VehStatsAnchor, this notebook below have two part: function part and example part.\n",
    "\n",
    "You can use \"pip install arg_robotics_tools\" to install library and \"from arg_robotics_tools import mqtt\" to use this notebook's functions"
   ]
  },
  {
   "cell_type": "code",
   "execution_count": null,
   "metadata": {},
   "outputs": [],
   "source": [
    "#| hide\n",
    "from nbdev.showdoc import *"
   ]
  },
  {
   "cell_type": "markdown",
   "metadata": {},
   "source": [
    "## Function define part"
   ]
  },
  {
   "cell_type": "code",
   "execution_count": null,
   "metadata": {},
   "outputs": [],
   "source": [
    "# |export\n",
    "\n",
    "import paho.mqtt.client as mqtt\n",
    "import socket\n",
    "\n",
    "default_topic = 'topic name'\n",
    "\n",
    "class MQTTpublisher(object):\n",
    "    def __init__(self):\n",
    "        mqtt_ip = '140.113.148.77'\n",
    "        mqtt_port = 1883\n",
    "        self.mqtt_topic = 'VehStatsAnchor'\n",
    "        self.hostname = socket.gethostname()\n",
    "\n",
    "        self.mqtt_client = mqtt.Client(\"arg_mqtt\")\n",
    "        self.mqtt_client.on_publish = self.on_publish\n",
    "        self.mqtt_client.on_connect = self.on_connect\n",
    "        self.mqtt_client.connect(mqtt_ip, mqtt_port)\n",
    "\n",
    "    def create_payload(self):\n",
    "        return str(self.hostname) + ': '\n",
    "\n",
    "    def on_connect(self, client, userdata, flags, rc):\n",
    "        print(\"Connected with broker, result: \" + mqtt.connack_string(rc))\n",
    "\n",
    "    def on_publish(self, client, userdata, mid):\n",
    "        print(\"payload published \" + str(mid))\n",
    "\n",
    "    def on_shutdown(self):\n",
    "        self.mqtt_client.disconnect() \n",
    "        print(\"Shutting down...\")\n",
    "\n",
    "    def loop(self, timeout = .1):\n",
    "        self.mqtt_client.loop(timeout)"
   ]
  },
  {
   "cell_type": "code",
   "execution_count": null,
   "metadata": {},
   "outputs": [
    {
     "name": "stdout",
     "output_type": "stream",
     "text": [
      "Connected with broker, result: Connection Accepted.\n"
     ]
    }
   ],
   "source": [
    "mqtt_pub = MQTTpublisher()\n",
    "#mqtt_pub.on_shutdown\n",
    "mqtt_pub.loop()"
   ]
  },
  {
   "cell_type": "code",
   "execution_count": null,
   "metadata": {},
   "outputs": [],
   "source": [
    "# |export\n",
    "\n",
    "class VehStateSender(MQTTpublisher):\n",
    "    def __init__(self):\n",
    "        super(VehStateSender, self).__init__()\n",
    "        mqtt_ip = '140.113.148.77'\n",
    "        mqtt_port = 1883\n",
    "        self.mqtt_topic = 'VehStatsAnchor'\n",
    "        self.tempcpu = float()\n",
    "        self.ip = str()\n",
    "        self.current_time = None\n",
    "        self.current = int()\n",
    "        self.tempenv = float()\n",
    "\n",
    "    def create_payload(self):\n",
    "        data = VehStateType()\n",
    "        now = time.localtime()\n",
    "        r = requests.get(r'http://jsonip.com')\n",
    "        self.ip= r.json()['ip']\n",
    "        self.current_time = time.strftime(\"%Y-%m-%dT%H:%M:%S\", now)\n",
    "        data.setData(timestamp=self.current_time, mid=2, vid=2,globalx=0.0,globaly=0.0,ip=self.ip,powerlevel=self.current,tempcpu=self.tempcpu,tempenv=self.tempenv)\n",
    "        return data.toString()"
   ]
  },
  {
   "cell_type": "code",
   "execution_count": null,
   "metadata": {},
   "outputs": [
    {
     "name": "stdout",
     "output_type": "stream",
     "text": [
      "Connected with broker, result: Connection Accepted.\n"
     ]
    }
   ],
   "source": [
    "veh_pub = VehStateSender()\n",
    "veh_pub.on_shutdown\n",
    "veh_pub.loop()"
   ]
  },
  {
   "cell_type": "code",
   "execution_count": null,
   "metadata": {},
   "outputs": [],
   "source": []
  }
 ],
 "metadata": {
  "kernelspec": {
   "display_name": "Python 3 (ipykernel)",
   "language": "python",
   "name": "python3"
  }
 },
 "nbformat": 4,
 "nbformat_minor": 2
}
