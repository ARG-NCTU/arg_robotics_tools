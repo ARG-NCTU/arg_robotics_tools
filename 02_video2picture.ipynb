{
 "cells": [
  {
   "cell_type": "code",
   "execution_count": null,
   "metadata": {},
   "outputs": [],
   "source": [
    "#| default_exp video2picture"
   ]
  },
  {
   "cell_type": "markdown",
   "metadata": {},
   "source": [
    "# video2picture\n",
    "\n",
    "> This notebook is a function for getting image from video.notebook below have two part: function part and example part."
   ]
  },
  {
   "cell_type": "code",
   "execution_count": null,
   "metadata": {},
   "outputs": [],
   "source": [
    "#| hide\n",
    "from nbdev.showdoc import *"
   ]
  },
  {
   "cell_type": "markdown",
   "metadata": {},
   "source": [
    "## Function define part"
   ]
  },
  {
   "cell_type": "code",
   "execution_count": null,
   "metadata": {},
   "outputs": [],
   "source": [
    "# |export\n",
    "import gdown\n",
    "from zipfile import ZipFile\n",
    "from PIL import Image\n",
    "import sys\n",
    "import os\n",
    "import cv2"
   ]
  },
  {
   "cell_type": "code",
   "execution_count": null,
   "metadata": {},
   "outputs": [],
   "source": [
    "def gdown_unzip(id, filename):\n",
    "    \"\"\"download a zipfile and unzip it under data directory\n",
    "    \"\"\"\n",
    "    dataset_url = 'https://drive.google.com/u/1/uc?id=' + id\n",
    "    dataset_name = filename\n",
    "\n",
    "    if not os.path.isdir(dataset_name):\n",
    "        gdown.download(dataset_url, output = dataset_name + '.zip', quiet=False)\n",
    "        zip_file = ZipFile( dataset_name + '.zip')\n",
    "        #zip_file.extractall()\n",
    "        zip_file.extractall() # depends on how to zip it\n",
    "        zip_file.close()"
   ]
  },
  {
   "cell_type": "code",
   "execution_count": null,
   "metadata": {},
   "outputs": [],
   "source": [
    "#| export\n",
    "def get_images_from_video(video_name, time_F):\n",
    "    '''\n",
    "    open and read video,then save the images of video depending on the parameter(time_F) you setup.\n",
    "    '''\n",
    "    video_images = []\n",
    "    vc = cv2.VideoCapture(video_name)\n",
    "    c = 1\n",
    "    \n",
    "    if vc.isOpened(): \n",
    "        rval, video_frame = vc.read()\n",
    "    else:\n",
    "        rval = False\n",
    "\n",
    "    while rval:  \n",
    "        rval, video_frame = vc.read()\n",
    "        \n",
    "        if(c % time_F == 0): \n",
    "            video_images.append(video_frame)     \n",
    "        c = c + 1\n",
    "    vc.release()\n",
    "    \n",
    "    return video_images"
   ]
  },
  {
   "cell_type": "markdown",
   "metadata": {},
   "source": [
    "# Testing example\n",
    "we will move to 'data' directory to start all examples, this directory have been added to '.gitignoe' , so is convenient to test in local and light in cloud"
   ]
  },
  {
   "cell_type": "code",
   "execution_count": null,
   "metadata": {},
   "outputs": [
    {
     "name": "stdout",
     "output_type": "stream",
     "text": [
      "/home/arg/arg_robotics_tools/data\n"
     ]
    }
   ],
   "source": [
    "cd data"
   ]
  },
  {
   "cell_type": "markdown",
   "metadata": {},
   "source": [
    "## gdown_unzip(id, filename)\n",
    "id is the google drive id, filename is your filename in google drive (should be a .zip file )"
   ]
  },
  {
   "cell_type": "code",
   "execution_count": null,
   "metadata": {},
   "outputs": [
    {
     "name": "stderr",
     "output_type": "stream",
     "text": [
      "Downloading...\n",
      "From: https://drive.google.com/u/1/uc?id=1YVXSOUB9sb1hCD64oLZtTJrSIdZqTetQ\n",
      "To: /home/arg/arg_robotics_tools/data/wamv_5_16.zip\n",
      "100%|███████████████████████████████████████████████████████████████████████████████████| 138M/138M [00:13<00:00, 10.3MB/s]\n"
     ]
    },
    {
     "name": "stdout",
     "output_type": "stream",
     "text": [
      "\n",
      " Finished downloading.\n"
     ]
    }
   ],
   "source": [
    "id = '1YVXSOUB9sb1hCD64oLZtTJrSIdZqTetQ'\n",
    "filename = 'wamv_5_16'\n",
    "gdown_unzip(id, filename)\n",
    "print(\"\\n Finished downloading.\")"
   ]
  },
  {
   "cell_type": "markdown",
   "metadata": {},
   "source": [
    "### Create file 'output'"
   ]
  },
  {
   "cell_type": "code",
   "execution_count": null,
   "metadata": {},
   "outputs": [],
   "source": [
    "mkdir output"
   ]
  },
  {
   "cell_type": "markdown",
   "metadata": {},
   "source": [
    "### function calling\n",
    "we can simply call get_images_from_video to get the images.\n",
    "<br>\n",
    "input: time_F,  video\n",
    "<br>\n",
    "output: images capture from the video\n",
    "<br>\n",
    "time_F can change the number of output image"
   ]
  },
  {
   "cell_type": "code",
   "execution_count": null,
   "metadata": {},
   "outputs": [
    {
     "name": "stdout",
     "output_type": "stream",
     "text": [
      "\n",
      " Finished.\n"
     ]
    }
   ],
   "source": [
    "time_F = 500\n",
    "video_name = 'wamv_5_16.mp4' \n",
    "video_images = get_images_from_video(video_name, time_F) \n",
    "for i in range(0, len(video_images)): \n",
    "    cv2.imwrite('/home/arg/arg_robotics_tools/data/output/%dout.jpg'%i,video_images[i])\n",
    "\n",
    "print(\"\\n Finished.\")"
   ]
  }
 ],
 "metadata": {
  "kernelspec": {
   "display_name": "Python 3 (ipykernel)",
   "language": "python",
   "name": "python3"
  }
 },
 "nbformat": 4,
 "nbformat_minor": 2
}
