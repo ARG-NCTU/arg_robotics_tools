{
 "cells": [
  {
   "cell_type": "code",
   "execution_count": null,
   "metadata": {},
   "outputs": [],
   "source": [
    "# default_exp xbee_coding"
   ]
  },
  {
   "cell_type": "markdown",
   "metadata": {},
   "source": [
    "# xbee_coding\n",
    "\n",
    "> This notebook is a toolset for arg xbee coding, common used function like encode or decode are wrote here, this notebook below have two part: function part and example part.\n",
    "\n",
    "You can use \"pip install arg_robotics_tools\" to install library and \"from arg_robotics_tools import xbee_coding\" to use this notebook's functions"
   ]
  },
  {
   "cell_type": "code",
   "execution_count": null,
   "metadata": {},
   "outputs": [],
   "source": [
    "#hide\n",
    "from nbdev.showdoc import *"
   ]
  },
  {
   "cell_type": "markdown",
   "metadata": {},
   "source": [
    "## Function define part"
   ]
  },
  {
   "cell_type": "code",
   "execution_count": null,
   "metadata": {},
   "outputs": [],
   "source": [
    "# |export\n",
    "import pickle\n",
    "\n",
    "def np_array_to_Odometry(array):\n",
    "    msg = Odometry()\n",
    "    msg.header.frame_id = \"odom\"\n",
    "    msg.pose.pose.position.x = array[0]\n",
    "    msg.pose.pose.position.y = array[1]\n",
    "    msg.pose.pose.position.z = array[2]\n",
    "    msg.pose.pose.orientation.x = array[3]\n",
    "    msg.pose.pose.orientation.y = array[4]\n",
    "    msg.pose.pose.orientation.z = array[5]\n",
    "    msg.pose.pose.orientation.w = array[6]\n",
    "    msg.twist.twist.linear.x = array[7]\n",
    "    msg.twist.twist.linear.y = array[8]\n",
    "    msg.twist.twist.linear.z = array[9]\n",
    "    msg.twist.twist.angular.x = array[10]\n",
    "    msg.twist.twist.angular.y = array[11]\n",
    "    msg.twist.twist.angular.z = array[12]\n",
    "    return msg\n",
    "\n",
    "def xbee_encode(data_via_xbee, data_type):\n",
    "    data = data_via_xbee\n",
    "\n",
    "    # send data\n",
    "    byte_arr = pickle.dumps( data )\n",
    "    length, index, check= int(len(byte_arr)), 0, 0\n",
    "\n",
    "    for index in range(0,length,250) :\n",
    "        pack = bytearray(b'\\xAB') #Header\n",
    "        pack.extend(bytearray(data_type)) #Type\n",
    "        pack.extend( length.to_bytes(4, byteorder='big') ) #bytes\n",
    "        index_end = index+250 if index+250 < length else length\n",
    "        pack.extend( byte_arr[index:(index_end)] ) #data\n",
    "\n",
    "        if index_end == length : pack.extend(check.to_bytes(1, byteorder='big')) # checksum\n",
    "        else: check = 0xff & (check + pack[-1])\n",
    "\n",
    "    return pack  \n",
    "\n",
    "def xbee_decode(xbee_message):\n",
    "    print(xbee_message)\n",
    "\n",
    "    if not xbee_message[0:1] == b'\\xAB' : # Header wrong\n",
    "        print('get xbee_message with wrong Header')\n",
    "        return\n",
    "\n",
    "    if not ((xbee_message[1:2] == b'\\x00') or (xbee_message[1:2] == b'\\x01') or (xbee_message[1:2] == b'\\x02') or (xbee_message[1:2] == b'\\x03')):\n",
    "        rospy.loginfo('xbeejoy callback')\n",
    "        self.count += 1\n",
    "        get_msg = pickle.loads(xbee_message)\n",
    "        axes = get_msg[0:8]\n",
    "        buttons = get_msg[8:]\n",
    "        rospy.loginfo(axes)\n",
    "        rospy.loginfo(buttons)\n",
    "\n",
    "        msg = Joy()\n",
    "        msg.header.seq = self.count\n",
    "        msg.header.frame_id = \"/dev/input/js0\"\n",
    "        msg.header.stamp = rospy.Time.now()\n",
    "        msg.axes = axes\n",
    "        msg.buttons = buttons\n",
    "        return msg\n",
    "    \n",
    "    get_register.extend(xbee_message[6:])\n",
    "\n",
    "    if xbee_message[1:2] == b'\\x00':\n",
    "        get_msg = pickle.loads(get_register[:-1])\n",
    "        print(get_msg)\n",
    "        return(get_msg)\n",
    "    \n",
    "    \n",
    "    if xbee_message[1:2] == b'\\x02': # type: points\n",
    "        get_points = pickle.loads(get_register[:-1])\n",
    "        pub_msg = np_array_to_Odometry(get_points)\n",
    "        return(pub_msg)"
   ]
  },
  {
   "cell_type": "markdown",
   "metadata": {},
   "source": [
    "## Testing example\n"
   ]
  },
  {
   "cell_type": "code",
   "execution_count": null,
   "metadata": {},
   "outputs": [],
   "source": [
    "data_type = b'\\x00'\n",
    "data_via_xbee = '5@32:80:0:0:0'"
   ]
  },
  {
   "cell_type": "code",
   "execution_count": null,
   "metadata": {},
   "outputs": [
    {
     "name": "stdout",
     "output_type": "stream",
     "text": [
      "bytearray(b'\\xab\\x00\\x00\\x00\\x00\\x1c\\x80\\x04\\x95\\x11\\x00\\x00\\x00\\x00\\x00\\x00\\x00\\x8c\\r5@32:80:0:0:0\\x94.\\x00')\n"
     ]
    }
   ],
   "source": [
    "pack = xbee_encode(data_via_xbee, data_type)\n",
    "print(pack)"
   ]
  },
  {
   "cell_type": "code",
   "execution_count": null,
   "metadata": {},
   "outputs": [
    {
     "name": "stdout",
     "output_type": "stream",
     "text": [
      "bytearray(b'\\xab\\x00\\x00\\x00\\x00\\x1c\\x80\\x04\\x95\\x11\\x00\\x00\\x00\\x00\\x00\\x00\\x00\\x8c\\r5@32:80:0:0:0\\x94.\\x00')\n",
      "5@32:80:0:0:0\n"
     ]
    }
   ],
   "source": [
    "get_register = bytearray()\n",
    "msg = xbee_decode(pack)"
   ]
  },
  {
   "cell_type": "code",
   "execution_count": null,
   "metadata": {},
   "outputs": [
    {
     "name": "stdout",
     "output_type": "stream",
     "text": [
      "5@32:80:0:0:0\n"
     ]
    }
   ],
   "source": [
    "print(msg)"
   ]
  },
  {
   "cell_type": "code",
   "execution_count": null,
   "metadata": {},
   "outputs": [],
   "source": []
  }
 ],
 "metadata": {
  "kernelspec": {
   "display_name": "Python 3 (ipykernel)",
   "language": "python",
   "name": "python3"
  }
 },
 "nbformat": 4,
 "nbformat_minor": 2
}
