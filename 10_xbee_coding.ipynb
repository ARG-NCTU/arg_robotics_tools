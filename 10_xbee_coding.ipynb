{
 "cells": [
  {
   "cell_type": "code",
   "execution_count": null,
   "metadata": {},
   "outputs": [],
   "source": [
    "# default_exp xbee_coding"
   ]
  },
  {
   "cell_type": "markdown",
   "metadata": {},
   "source": [
    "# xbee_coding"
   ]
  },
  {
   "cell_type": "code",
   "execution_count": null,
   "metadata": {},
   "outputs": [],
   "source": [
    "#hide\n",
    "from nbdev.showdoc import *"
   ]
  },
  {
   "cell_type": "markdown",
   "metadata": {},
   "source": [
    "## Function define part"
   ]
  },
  {
   "cell_type": "code",
   "execution_count": null,
   "metadata": {},
   "outputs": [],
   "source": [
    "#|export\n",
    "\n",
    "def xbee_encode(self,data_via_xbee, data_type):\n",
    "    data = data_via_xbee\n",
    "\n",
    "    # send data\n",
    "    byte_arr = pickle.dumps( data )\n",
    "    length, index, check= int(len(byte_arr)), 0, 0\n",
    "\n",
    "    for index in range(0,length,250) :\n",
    "        pack = bytearray(b'\\xAB') #Header\n",
    "        pack.extend(bytearray(data_type)) #Type\n",
    "        pack.extend( length.to_bytes(4, byteorder='big') ) #bytes\n",
    "        index_end = index+250 if index+250 < length else length\n",
    "        pack.extend( byte_arr[index:(index_end)] ) #data\n",
    "\n",
    "        if index_end == length : pack.extend(check.to_bytes(1, byteorder='big')) # checksum\n",
    "        else: check = 0xff & (check + pack[-1])\n",
    "\n",
    "    return pack  "
   ]
  },
  {
   "cell_type": "markdown",
   "metadata": {},
   "source": [
    "## Testing example\n"
   ]
  },
  {
   "cell_type": "code",
   "execution_count": null,
   "metadata": {},
   "outputs": [],
   "source": []
  }
 ],
 "metadata": {
  "kernelspec": {
   "display_name": "Python 3 (ipykernel)",
   "language": "python",
   "name": "python3"
  }
 },
 "nbformat": 4,
 "nbformat_minor": 2
}
