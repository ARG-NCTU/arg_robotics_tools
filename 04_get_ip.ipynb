{
 "cells": [
  {
   "cell_type": "code",
   "execution_count": null,
   "id": "4199c736",
   "metadata": {},
   "outputs": [],
   "source": [
    "# default_exp get_ip"
   ]
  },
  {
   "cell_type": "markdown",
   "id": "29902dc3",
   "metadata": {},
   "source": [
    "# arg_tools\n",
    "\n",
    "> A toolset for ."
   ]
  },
  {
   "cell_type": "code",
   "execution_count": null,
   "id": "8f2d3ac1",
   "metadata": {},
   "outputs": [],
   "source": [
    "#hide\n",
    "from nbdev.showdoc import *"
   ]
  },
  {
   "cell_type": "code",
   "execution_count": null,
   "id": "f0eae6c6",
   "metadata": {},
   "outputs": [],
   "source": [
    "#|export\n",
    "import subprocess\n",
    "\n",
    "def whoami(data):\n",
    "\n",
    "    ret_byte = subprocess.check_output(['ifconfig'])\n",
    "    ret_str = ret_byte.decode('utf-8')\n",
    "    # Cut string from 'equal symbol' to 'degree C symbol', then convert to float\n",
    "    en = ret_str[ret_str.find('eno1:'): ret_str.find('lo')]\n",
    "    ip = en[en.find('inet')+5: en.find('netmask')-2]\n",
    "    machine,device = get_key(data,ip)\n",
    "    return machine,device\n",
    "\n",
    "def get_key(dict,value):\n",
    "    \n",
    "    for k, v in dict.items():\n",
    "        for v,v1 in v.items():\n",
    "            for v1,v2 in v1.items():\n",
    "                if v2 == value:\n",
    "                    return k,v\n",
    "\n",
    "def get_xbee_address(dict,value):\n",
    "    for k, v in dict.items():\n",
    "        for v,v1 in v.items():\n",
    "            for v1,v2 in v1.items():\n",
    "                if v2 == value:\n",
    "                    address = dict[k][\"rpi\"]['xbee_rx']\n",
    "                    return address\n",
    "                \n",
    "def get_xbee_address_boat(dict,value):\n",
    "    pair_device = dict[value][\"xbee\"][\"xbee_pair\"]\n",
    "    address = dict[pair_device][\"rpi_2\"][\"xbee_rx\"]\n",
    "    return address\n"
   ]
  },
  {
   "cell_type": "markdown",
   "id": "7c588dd6",
   "metadata": {},
   "source": [
    "## Testing example"
   ]
  },
  {
   "cell_type": "code",
   "execution_count": null,
   "id": "8cac4d49",
   "metadata": {},
   "outputs": [
    {
     "name": "stdout",
     "output_type": "stream",
     "text": [
      "/home/arg/arg_robotics_tools/data\n"
     ]
    }
   ],
   "source": [
    "cd data\n"
   ]
  },
  {
   "cell_type": "code",
   "execution_count": null,
   "id": "ff766985",
   "metadata": {},
   "outputs": [],
   "source": [
    "import yaml\n"
   ]
  },
  {
   "cell_type": "code",
   "execution_count": null,
   "id": "6a43f28f",
   "metadata": {},
   "outputs": [
    {
     "name": "stdout",
     "output_type": "stream",
     "text": [
      "boat1\n",
      "rpi\n",
      "41AF1BEE\n"
     ]
    }
   ],
   "source": [
    "with open('duckiepond-devices-machine.yaml', 'r') as f:\n",
    "    data = yaml.safe_load(f)\n",
    "\n",
    "machine,device = whoami(data)\n",
    "\n",
    "xbee_address = get_xbee_address_boat(data,machine)\n",
    "\n",
    "\n",
    "print(machine)\n",
    "print(device)\n",
    "print(xbee_address)"
   ]
  },
  {
   "cell_type": "markdown",
   "id": "3071d7d4",
   "metadata": {},
   "source": [
    "This code will catch your local ip so the device you run this code should be in the yaml file"
   ]
  },
  {
   "cell_type": "code",
   "execution_count": null,
   "id": "aa5df73e",
   "metadata": {},
   "outputs": [],
   "source": []
  }
 ],
 "metadata": {
  "kernelspec": {
   "display_name": "Python 3 (ipykernel)",
   "language": "python",
   "name": "python3"
  }
 },
 "nbformat": 4,
 "nbformat_minor": 5
}
