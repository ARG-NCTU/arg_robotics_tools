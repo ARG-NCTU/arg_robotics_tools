{
 "cells": [
  {
   "cell_type": "code",
   "execution_count": null,
   "id": "4199c736",
   "metadata": {},
   "outputs": [],
   "source": [
    "# default_exp get_ip"
   ]
  },
  {
   "cell_type": "markdown",
   "id": "29902dc3",
   "metadata": {},
   "source": [
    "# arg_tools\n",
    "\n",
    "> A toolset for ."
   ]
  },
  {
   "cell_type": "code",
   "execution_count": null,
   "id": "8f2d3ac1",
   "metadata": {},
   "outputs": [],
   "source": [
    "#hide\n",
    "from nbdev.showdoc import *"
   ]
  },
  {
   "cell_type": "code",
   "execution_count": null,
   "id": "f0eae6c6",
   "metadata": {},
   "outputs": [],
   "source": [
    "#|export\n",
    "import subprocess\n",
    "\n",
    "def who_am_I(self,data):\n",
    "\n",
    "    ret_byte = subprocess.check_output(['ifconfig'])\n",
    "    ret_str = ret_byte.decode('utf-8')\n",
    "    # Cut string from 'equal symbol' to 'degree C symbol', then convert to float\n",
    "    en = ret_str[ret_str.find('eno1:'): ret_str.find('lo')]\n",
    "    ip = en[en.find('inet')+5: en.find('netmask')]\n",
    "    machine,device = self.get_key(data,ip)\n",
    "    return machine,device\n",
    "\n",
    "def get_key(self,dict,value):\n",
    "    \n",
    "    for k, v in dict.items():\n",
    "        for v,v1 in v.items():\n",
    "            for v1,v2 in v1.items():\n",
    "                if v2 == value:\n",
    "                    return k,v\n",
    "\n",
    "def get_xbee_address(self,dict,value):\n",
    "    for k, v in dict.items():\n",
    "        for v,v1 in v.items():\n",
    "            for v1,v2 in v1.items():\n",
    "                if v2 == value:\n",
    "                    address = dict[k][\"rpi\"]['xbee_rx']\n",
    "                    return address\n"
   ]
  },
  {
   "cell_type": "markdown",
   "id": "7c588dd6",
   "metadata": {},
   "source": [
    "## Testing example"
   ]
  },
  {
   "cell_type": "code",
   "execution_count": null,
   "id": "8cac4d49",
   "metadata": {},
   "outputs": [],
   "source": []
  }
 ],
 "metadata": {
  "kernelspec": {
   "display_name": "Python 3 (ipykernel)",
   "language": "python",
   "name": "python3"
  }
 },
 "nbformat": 4,
 "nbformat_minor": 5
}
