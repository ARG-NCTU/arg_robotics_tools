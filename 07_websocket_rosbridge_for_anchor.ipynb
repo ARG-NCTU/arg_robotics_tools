{
 "cells": [
  {
   "cell_type": "markdown",
   "id": "bf2af935",
   "metadata": {},
   "source": [
    "# Websocket with rosbridge to get anchor distance data\n",
    "this notebook is "
   ]
  },
  {
   "cell_type": "code",
   "execution_count": null,
   "id": "a136b89d",
   "metadata": {},
   "outputs": [],
   "source": [
    "import roslibpy\n",
    "import time"
   ]
  },
  {
   "cell_type": "code",
   "execution_count": null,
   "id": "11e7d6d7",
   "metadata": {},
   "outputs": [],
   "source": [
    "def println(ros_list):\n",
    "    if len(ros_list) == 0:\n",
    "        print('Empty')\n",
    "    else:\n",
    "        for i in ros_list:\n",
    "            print(i)\n",
    "    return 0\n",
    "\n",
    "def subscribe_callback(message):\n",
    "    if message['data'] == 0:\n",
    "        #print(\"it's 0\")\n",
    "    else:\n",
    "        print(message)"
   ]
  },
  {
   "cell_type": "code",
   "execution_count": null,
   "id": "06e161ca",
   "metadata": {},
   "outputs": [
    {
     "name": "stdout",
     "output_type": "stream",
     "text": [
      "input host IP: 192.168.1.12\n",
      "Is ROS connected? True\n"
     ]
    }
   ],
   "source": [
    "host = input(\"input host IP: \")\n",
    "\n",
    "client = roslibpy.Ros(host = host, port = 9090)\n",
    "client.run()\n",
    "print('Is ROS connected?', client.is_connected)"
   ]
  },
  {
   "cell_type": "code",
   "execution_count": null,
   "id": "2835c34c",
   "metadata": {},
   "outputs": [
    {
     "name": "stdout",
     "output_type": "stream",
     "text": [
      "please input command(topic, node, service, subscriber quit): subscriber\n",
      "/client_count\n",
      "/anchor01/ranges\n",
      "/rosout\n",
      "/rosout_agg\n",
      "/connected_clients\n",
      "/joy/set_feedback\n",
      "/joy\n",
      "/diagnostics\n",
      "/anchor01/distance\n",
      "what topic you want to listen/anchor01/distance\n",
      "type_is std_msgs/Float64\n",
      "{'data': 3694.0}\n",
      "{'data': 0.0}\n",
      "{'data': 3661.0}\n",
      "{'data': 0.0}\n",
      "{'data': 3684.0}\n",
      "{'data': 0.0}\n",
      "{'data': 3708.0}\n",
      "{'data': 3708.0}\n",
      "{'data': 0.0}\n",
      "{'data': 0.0}\n",
      "{'data': 3642.0}\n",
      "{'data': 3698.0}\n",
      "{'data': 3680.0}\n",
      "{'data': 3694.0}\n",
      "{'data': 0.0}\n",
      "{'data': 0.0}\n",
      "{'data': 3694.0}\n",
      "{'data': 3698.0}\n",
      "{'data': 3703.0}\n",
      "{'data': 3694.0}\n",
      "{'data': 0.0}\n",
      "{'data': 0.0}\n",
      "{'data': 0.0}\n",
      "{'data': 3698.0}\n",
      "{'data': 0.0}\n",
      "{'data': 0.0}\n",
      "{'data': 3703.0}\n",
      "{'data': 3694.0}\n",
      "{'data': 3712.0}\n",
      "{'data': 0.0}\n",
      "{'data': 3741.0}\n",
      "{'data': 3698.0}\n",
      "{'data': 3694.0}\n",
      "{'data': 3717.0}\n",
      "{'data': 3698.0}\n",
      "{'data': 3670.0}\n",
      "{'data': 3661.0}\n",
      "{'data': 3750.0}\n",
      "{'data': 3703.0}\n",
      "{'data': 3661.0}\n",
      "{'data': 0.0}\n",
      "{'data': 0.0}\n",
      "{'data': 0.0}\n",
      "{'data': 0.0}\n",
      "{'data': 3694.0}\n",
      "{'data': 3694.0}\n",
      "{'data': 3684.0}\n",
      "{'data': 3689.0}\n",
      "{'data': 0.0}\n",
      "{'data': 3694.0}\n",
      "{'data': 3689.0}\n",
      "{'data': 3694.0}\n",
      "{'data': 3712.0}\n",
      "{'data': 3680.0}\n",
      "{'data': 3680.0}\n",
      "{'data': 3712.0}\n",
      "{'data': 3708.0}\n"
     ]
    },
    {
     "ename": "KeyboardInterrupt",
     "evalue": "Interrupted by user",
     "output_type": "error",
     "traceback": [
      "\u001b[0;31m---------------------------------------------------------------------------\u001b[0m",
      "\u001b[0;31mKeyboardInterrupt\u001b[0m                         Traceback (most recent call last)",
      "Input \u001b[0;32mIn [4]\u001b[0m, in \u001b[0;36m<cell line: 2>\u001b[0;34m()\u001b[0m\n\u001b[1;32m      1\u001b[0m \u001b[38;5;28;01mwhile\u001b[39;00m \u001b[38;5;28;01mTrue\u001b[39;00m:\n\u001b[0;32m----> 2\u001b[0m     command \u001b[38;5;241m=\u001b[39m \u001b[38;5;28;43minput\u001b[39;49m\u001b[43m(\u001b[49m\u001b[38;5;124;43m'\u001b[39;49m\u001b[38;5;124;43mplease input command(topic, node, service, subscriber quit): \u001b[39;49m\u001b[38;5;124;43m'\u001b[39;49m\u001b[43m)\u001b[49m\n\u001b[1;32m      3\u001b[0m     \u001b[38;5;28;01mif\u001b[39;00m command \u001b[38;5;241m==\u001b[39m \u001b[38;5;124m'\u001b[39m\u001b[38;5;124mtopic\u001b[39m\u001b[38;5;124m'\u001b[39m:\n\u001b[1;32m      4\u001b[0m         \u001b[38;5;28mprint\u001b[39m(\u001b[38;5;124m'\u001b[39m\u001b[38;5;124mtopic\u001b[39m\u001b[38;5;124m'\u001b[39m)\n",
      "File \u001b[0;32m/usr/local/lib/python3.8/dist-packages/ipykernel/kernelbase.py:1165\u001b[0m, in \u001b[0;36mKernel.raw_input\u001b[0;34m(self, prompt)\u001b[0m\n\u001b[1;32m   1161\u001b[0m \u001b[38;5;28;01mif\u001b[39;00m \u001b[38;5;129;01mnot\u001b[39;00m \u001b[38;5;28mself\u001b[39m\u001b[38;5;241m.\u001b[39m_allow_stdin:\n\u001b[1;32m   1162\u001b[0m     \u001b[38;5;28;01mraise\u001b[39;00m StdinNotImplementedError(\n\u001b[1;32m   1163\u001b[0m         \u001b[38;5;124m\"\u001b[39m\u001b[38;5;124mraw_input was called, but this frontend does not support input requests.\u001b[39m\u001b[38;5;124m\"\u001b[39m\n\u001b[1;32m   1164\u001b[0m     )\n\u001b[0;32m-> 1165\u001b[0m \u001b[38;5;28;01mreturn\u001b[39;00m \u001b[38;5;28;43mself\u001b[39;49m\u001b[38;5;241;43m.\u001b[39;49m\u001b[43m_input_request\u001b[49m\u001b[43m(\u001b[49m\n\u001b[1;32m   1166\u001b[0m \u001b[43m    \u001b[49m\u001b[38;5;28;43mstr\u001b[39;49m\u001b[43m(\u001b[49m\u001b[43mprompt\u001b[49m\u001b[43m)\u001b[49m\u001b[43m,\u001b[49m\n\u001b[1;32m   1167\u001b[0m \u001b[43m    \u001b[49m\u001b[38;5;28;43mself\u001b[39;49m\u001b[38;5;241;43m.\u001b[39;49m\u001b[43m_parent_ident\u001b[49m\u001b[43m[\u001b[49m\u001b[38;5;124;43m\"\u001b[39;49m\u001b[38;5;124;43mshell\u001b[39;49m\u001b[38;5;124;43m\"\u001b[39;49m\u001b[43m]\u001b[49m\u001b[43m,\u001b[49m\n\u001b[1;32m   1168\u001b[0m \u001b[43m    \u001b[49m\u001b[38;5;28;43mself\u001b[39;49m\u001b[38;5;241;43m.\u001b[39;49m\u001b[43mget_parent\u001b[49m\u001b[43m(\u001b[49m\u001b[38;5;124;43m\"\u001b[39;49m\u001b[38;5;124;43mshell\u001b[39;49m\u001b[38;5;124;43m\"\u001b[39;49m\u001b[43m)\u001b[49m\u001b[43m,\u001b[49m\n\u001b[1;32m   1169\u001b[0m \u001b[43m    \u001b[49m\u001b[43mpassword\u001b[49m\u001b[38;5;241;43m=\u001b[39;49m\u001b[38;5;28;43;01mFalse\u001b[39;49;00m\u001b[43m,\u001b[49m\n\u001b[1;32m   1170\u001b[0m \u001b[43m\u001b[49m\u001b[43m)\u001b[49m\n",
      "File \u001b[0;32m/usr/local/lib/python3.8/dist-packages/ipykernel/kernelbase.py:1207\u001b[0m, in \u001b[0;36mKernel._input_request\u001b[0;34m(self, prompt, ident, parent, password)\u001b[0m\n\u001b[1;32m   1204\u001b[0m             \u001b[38;5;28;01mbreak\u001b[39;00m\n\u001b[1;32m   1205\u001b[0m \u001b[38;5;28;01mexcept\u001b[39;00m \u001b[38;5;167;01mKeyboardInterrupt\u001b[39;00m:\n\u001b[1;32m   1206\u001b[0m     \u001b[38;5;66;03m# re-raise KeyboardInterrupt, to truncate traceback\u001b[39;00m\n\u001b[0;32m-> 1207\u001b[0m     \u001b[38;5;28;01mraise\u001b[39;00m \u001b[38;5;167;01mKeyboardInterrupt\u001b[39;00m(\u001b[38;5;124m\"\u001b[39m\u001b[38;5;124mInterrupted by user\u001b[39m\u001b[38;5;124m\"\u001b[39m) \u001b[38;5;28;01mfrom\u001b[39;00m \u001b[38;5;28mNone\u001b[39m\n\u001b[1;32m   1208\u001b[0m \u001b[38;5;28;01mexcept\u001b[39;00m \u001b[38;5;167;01mException\u001b[39;00m:\n\u001b[1;32m   1209\u001b[0m     \u001b[38;5;28mself\u001b[39m\u001b[38;5;241m.\u001b[39mlog\u001b[38;5;241m.\u001b[39mwarning(\u001b[38;5;124m\"\u001b[39m\u001b[38;5;124mInvalid Message:\u001b[39m\u001b[38;5;124m\"\u001b[39m, exc_info\u001b[38;5;241m=\u001b[39m\u001b[38;5;28;01mTrue\u001b[39;00m)\n",
      "\u001b[0;31mKeyboardInterrupt\u001b[0m: Interrupted by user"
     ]
    }
   ],
   "source": [
    "while True:\n",
    "    command = input('please input command(topic, node, service, subscriber quit): ')\n",
    "    if command == 'topic':\n",
    "        print('topic')\n",
    "        topic = client.get_topics()\n",
    "        println(topic)\n",
    "\n",
    "        \n",
    "    elif command == 'node':\n",
    "        print('node')\n",
    "        node = client.get_nodes()\n",
    "        println(node)\n",
    "        \n",
    "#     elif command == 'service':\n",
    "#         print('service')\n",
    "#         service = client.get_services()\n",
    "#         println(service)\n",
    "    \n",
    "#     elif command == 'para':\n",
    "#         print('parameter')\n",
    "#         para = client.get_params()\n",
    "#         println(para)\n",
    "#     elif command == 'publisher':\n",
    "#         message_data = input('what message you want to publish')\n",
    "#         talker = roslibpy.Topic(client, '/chatter', 'std_msgs/String')\n",
    "#         for i in range(1,100):\n",
    "#             talker.publish(roslibpy.Message({'data': message_data}))\n",
    "#             print('Sending message...')\n",
    "#             time.sleep(1)\n",
    "#         talker.unadvertise()\n",
    "        \n",
    "    elif command == 'subscriber':\n",
    "        topic = client.get_topics()\n",
    "        println(topic)\n",
    "        topic_name = input('what topic you want to listen')\n",
    "        topic_type = client.get_topic_type(topic_name)\n",
    "        print('type_is ' + topic_type)\n",
    "        listener = roslibpy.Topic(client, topic_name, topic_type, throttle_rate=1000)\n",
    "        listener.subscribe(subscribe_callback)\n",
    "\n",
    "    elif command == 'close':\n",
    "        listener.unsubscribe(topic_name)\n",
    "         \n",
    "    elif command == 'quit':\n",
    "        client.terminate()\n",
    "        break\n"
   ]
  },
  {
   "cell_type": "code",
   "execution_count": null,
   "id": "d554ffdf",
   "metadata": {},
   "outputs": [],
   "source": []
  }
 ],
 "metadata": {
  "kernelspec": {
   "display_name": "Python 3 (ipykernel)",
   "language": "python",
   "name": "python3"
  }
 },
 "nbformat": 4,
 "nbformat_minor": 5
}
