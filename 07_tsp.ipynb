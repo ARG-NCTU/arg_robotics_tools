{
 "cells": [
  {
   "cell_type": "code",
   "execution_count": 1,
   "source": [
    "# default_exp tsp"
   ],
   "outputs": [],
   "metadata": {}
  },
  {
   "cell_type": "markdown",
   "source": [
    "# traveler salesman problem (tsp)\n",
    "\n",
    "> This notebook is a toolset for tsp, now support three ways to solve tsp. \n"
   ],
   "metadata": {}
  },
  {
   "cell_type": "code",
   "execution_count": 2,
   "source": [
    "#hide\n",
    "from nbdev.showdoc import *"
   ],
   "outputs": [],
   "metadata": {}
  },
  {
   "cell_type": "markdown",
   "source": [
    "## Function define part"
   ],
   "metadata": {}
  },
  {
   "cell_type": "code",
   "execution_count": 9,
   "source": [
    "#export\n",
    "\n",
    "import sys\n",
    "import itertools\n",
    "import random\n",
    "import time\n",
    "import matplotlib.pyplot as plt\n",
    "import numpy as np\n",
    "import math\n",
    "from python_tsp.heuristics import solve_tsp_simulated_annealing\n",
    "\n",
    "def dist(p1, p2):\n",
    "    \"\"\"\n",
    "        calculate the distance between two waypoints.\n",
    "        Args:\n",
    "            p1 : point's (x,y) position.\n",
    "            p2 : point's (x,y) position.\n",
    "        Returns:\n",
    "            distance between two points.\n",
    "    \"\"\"\n",
    "    return math.sqrt(((p1-p2)**2).sum())\n",
    "\n",
    "def distanceGenerate(point_set):\n",
    "    \"\"\"\n",
    "        generate a distance matrix based on the waypoints.\n",
    "        Args:\n",
    "            point_set : a set that contains all waypoint.\n",
    "        Returns:\n",
    "            a square matrix, which shows the distance between pairs of waypoint.\n",
    "    \"\"\"\n",
    "    return np.asarray([[dist(np.array(p1), np.array(p2)) for p2 in point_set] for p1 in point_set])\n",
    "\n",
    "def sortWaypoint(permutation, point_set):\n",
    "    \"\"\"\n",
    "        accoriding to permutation calculated by tsp solver, return new set of waypoint which is sorted.\n",
    "        Args:\n",
    "            permutation : the order of waypoints calculated by tsp solver.\n",
    "            point_set : a set that contains all waypoint.\n",
    "        Returns:\n",
    "            new set of waypoint which is sorted.\n",
    "    \"\"\"\n",
    "    return [x for _, x in sorted(zip(permutation, point_set))]\n",
    "\n",
    "def solve_tsp_nearest_neighbor(distance_matrix):\n",
    "    \"\"\"\n",
    "        calculate tsp problem based on nearest neighbor, an algorithm that solves tsp using greedy assumption.\n",
    "        Args:\n",
    "            distance_matrix : a square matrix, which shows the distance between pairs of waypoint.\n",
    "        Returns:\n",
    "            A tuple, (path, cost)\n",
    "            cost : optimal cost of tsp\n",
    "            path : a orderd list of waypoint index based on distance matrix.\n",
    "    \"\"\"\n",
    "    path = [0]\n",
    "    cost = 0\n",
    "    N = distance_matrix.shape[0]\n",
    "    mask = np.ones(N, dtype=bool) \n",
    "    mask[0] = False\n",
    "\n",
    "    for i in range(N-1):\n",
    "        last = path[-1]\n",
    "        next_ind = np.argmin(distance_matrix[last][mask]) # find minimum of remaining locations\n",
    "        next_loc = np.arange(N)[mask][next_ind] # convert to original location\n",
    "        path.append(next_loc)\n",
    "        mask[next_loc] = False\n",
    "        cost += distance_matrix[last, next_loc]\n",
    "        if(i == N-2):\n",
    "            cost += distance_matrix[next_loc, 0]\n",
    "\n",
    "    return path, cost\n",
    "\n",
    "def solve_tsp_held_karp(distance_matrix):\n",
    "    \"\"\"\n",
    "        calculate tsp problem based on Held-Karp, an algorithm that solves tsp using dynamic programming with memoization.\n",
    "        Args:\n",
    "            distance_matrix : a square matrix, which shows the distance between pairs of waypoint.\n",
    "        Returns:\n",
    "            A tuple, (path, cost)\n",
    "            cost : optimal cost of tsp\n",
    "            path : a orderd list of waypoint index based on distance matrix.\n",
    "    \"\"\"\n",
    "    n = len(distance_matrix)\n",
    "    C = {}\n",
    "\n",
    "    # Set transition cost from initial state\n",
    "    for k in range(1, n):\n",
    "        C[(1 << k, k)] = (distance_matrix[0][k], 0)\n",
    "\n",
    "    # Iterate subsets of increasing length and store intermediate results\n",
    "    # in classic dynamic programming manner\n",
    "    for subset_size in range(2, n):\n",
    "        for subset in itertools.combinations(range(1, n), subset_size):\n",
    "            bits = 0\n",
    "            for bit in subset:\n",
    "                bits |= 1 << bit\n",
    "            # Find the lowest cost to get to this subset\n",
    "            for k in subset:\n",
    "                prev = bits & ~(1 << k)\n",
    "                res = []\n",
    "                for m in subset:\n",
    "                    if m == 0 or m == k:\n",
    "                        continue\n",
    "                    res.append((C[(prev, m)][0] + distance_matrix[m][k], m))\n",
    "                C[(bits, k)] = min(res)\n",
    "    bits = (2**n - 1) - 1\n",
    "\n",
    "    # Calculate optimal cost\n",
    "    res = []\n",
    "    for k in range(1, n):\n",
    "        res.append((C[(bits, k)][0] + distance_matrix[k][0], k))\n",
    "    opt, parent = min(res)\n",
    "\n",
    "    # Backtrack to find full path\n",
    "    path = []\n",
    "    for i in range(n - 1):\n",
    "        path.append(parent)\n",
    "        new_bits = bits & ~(1 << parent)\n",
    "        _, parent = C[(bits, parent)]\n",
    "        bits = new_bits\n",
    "\n",
    "    # Add implicit start state\n",
    "    path.append(0)\n",
    "\n",
    "    return list(reversed(path)), opt\n",
    "\n"
   ],
   "outputs": [],
   "metadata": {}
  },
  {
   "cell_type": "markdown",
   "source": [
    "## Testing example\n",
    "we will move to 'data' directory to start all examples, this directory have been added to '.gitignoe' , so is convenient to test in local and light in cloud"
   ],
   "metadata": {}
  },
  {
   "cell_type": "code",
   "execution_count": 10,
   "source": [
    "cd data"
   ],
   "outputs": [
    {
     "output_type": "stream",
     "name": "stdout",
     "text": [
      "/home/arg/arg_robotics_tools/data\n"
     ]
    }
   ],
   "metadata": {}
  },
  {
   "cell_type": "markdown",
   "source": [
    "### Example task\n",
    "we set a list that contains 11 waypoint(the first one is the starting point)"
   ],
   "metadata": {}
  },
  {
   "cell_type": "code",
   "execution_count": 11,
   "source": [
    "point_set = [\n",
    "    [0, 0],\n",
    "    [-13, 10],\n",
    "    [-7, 6],\n",
    "    [-1, 20],\n",
    "    [3, 15],\n",
    "    [10, 18],\n",
    "    [13, 14],\n",
    "    [16, 10],\n",
    "    [24, 14],\n",
    "    [25, 17],\n",
    "    [33, 8]\n",
    "]"
   ],
   "outputs": [],
   "metadata": {}
  },
  {
   "cell_type": "markdown",
   "source": [
    "### Generate distance matrix\n",
    "generate distance matrix for tsp_solver"
   ],
   "metadata": {}
  },
  {
   "cell_type": "code",
   "execution_count": 12,
   "source": [
    "distance_matrix = distanceGenerate(point_set)\n",
    "print(distance_matrix)"
   ],
   "outputs": [],
   "metadata": {}
  },
  {
   "cell_type": "markdown",
   "source": [
    "## Solve tsp\n",
    "here display three ways to solve tsp\n",
    "* Held Karp alogrithm(dynamic programming)\n",
    "* simulated annealing alogrithm(heuristics alogrithm)\n",
    "* nearest neighbor alogrithm(greedy alogrithm)"
   ],
   "metadata": {}
  },
  {
   "cell_type": "code",
   "execution_count": 13,
   "source": [
    "permutation_hk, distance_hk = solve_tsp_held_karp(distance_matrix)\n",
    "result_hk = sortWaypoint(permutation_hk, point_set)"
   ],
   "outputs": [],
   "metadata": {}
  },
  {
   "cell_type": "code",
   "execution_count": null,
   "source": [
    "permutation_sa, distance_sa = solve_tsp_simulated_annealing(distance_matrix)\n",
    "result_sa = sortWaypoint(permutation_sa, point_set)"
   ],
   "outputs": [],
   "metadata": {}
  },
  {
   "cell_type": "code",
   "execution_count": null,
   "source": [
    "permutation_nn, distance_nn = solve_tsp_nearest_neighbor(distance_matrix)\n",
    "result_nn = sortWaypoint(permutation_nn, point_set)"
   ],
   "outputs": [],
   "metadata": {}
  },
  {
   "cell_type": "markdown",
   "source": [
    "## Show result"
   ],
   "metadata": {}
  },
  {
   "cell_type": "code",
   "execution_count": 14,
   "source": [
    "print(permutation_hk)\n",
    "print(distance_hk)\n",
    "print(result_hk)"
   ],
   "outputs": [
    {
     "output_type": "stream",
     "name": "stdout",
     "text": [
      "[0, 7, 10, 9, 8, 6, 5, 4, 3, 1, 2]\n"
     ]
    }
   ],
   "metadata": {}
  },
  {
   "cell_type": "code",
   "execution_count": null,
   "source": [
    "print(permutation_sa)\n",
    "print(distance_sa)\n",
    "print(result_sa)"
   ],
   "outputs": [],
   "metadata": {}
  },
  {
   "cell_type": "code",
   "execution_count": null,
   "source": [
    "print(permutation_nn)\n",
    "print(distance_nn)\n",
    "print(result_nn)"
   ],
   "outputs": [],
   "metadata": {}
  }
 ],
 "metadata": {
  "kernelspec": {
   "display_name": "Python 3 (ipykernel)",
   "language": "python",
   "name": "python3"
  },
  "language_info": {
   "codemirror_mode": {
    "name": "ipython",
    "version": 3
   },
   "file_extension": ".py",
   "mimetype": "text/x-python",
   "name": "python",
   "nbconvert_exporter": "python",
   "pygments_lexer": "ipython3",
   "version": "3.8.10"
  }
 },
 "nbformat": 4,
 "nbformat_minor": 2
}