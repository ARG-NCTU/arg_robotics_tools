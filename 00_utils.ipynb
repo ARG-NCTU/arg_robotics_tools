{
 "cells": [
  {
   "cell_type": "code",
   "execution_count": null,
   "metadata": {},
   "outputs": [],
   "source": [
    "#| default_exp utils"
   ]
  },
  {
   "cell_type": "markdown",
   "metadata": {},
   "source": [
    "# utils\n",
    "\n",
    "> This notebook is a toolset for arg utils, common used function like gdown or unzip are all wrote here, this notebook below have two part: function part and example part.\n",
    "\n",
    "You can use \"pip install arg_robotics_tools\" to install library and \"from arg_robotics_tools import utils\" to use this notebook's functions"
   ]
  },
  {
   "cell_type": "code",
   "execution_count": null,
   "metadata": {},
   "outputs": [],
   "source": [
    "#| hide\n",
    "from nbdev.showdoc import *"
   ]
  },
  {
   "cell_type": "markdown",
   "metadata": {},
   "source": [
    "## Function define part"
   ]
  },
  {
   "cell_type": "code",
   "execution_count": null,
   "metadata": {},
   "outputs": [],
   "source": [
    "# |export\n",
    "\n",
    "import os\n",
    "import sys\n",
    "import gdown\n",
    "import copy\n",
    "import math\n",
    "from zipfile import ZipFile\n",
    "\n",
    "def gdown_unzip(id, filename):\n",
    "    \"\"\"download a zipfile and unzip it\n",
    "    \"\"\"\n",
    "    dataset_url = 'https://drive.google.com/u/1/uc?id=' + id\n",
    "    dataset_name = filename\n",
    "\n",
    "    if not os.path.isdir(dataset_name):\n",
    "        gdown.download(dataset_url, output = dataset_name + '.zip', quiet=False)\n",
    "        zip_file = ZipFile( dataset_name + '.zip')\n",
    "        #zip_file.extractall()\n",
    "        zip_file.extractall() # depends on how to zip it\n",
    "        zip_file.close()\n",
    "\n",
    "def gdown_download(id, filename):\n",
    "    \"\"\"download a file\n",
    "    \"\"\"\n",
    "    dataset_url = 'https://drive.google.com/u/1/uc?id=' + id\n",
    "    dataset_name = filename\n",
    "\n",
    "    if not os.path.isdir(dataset_name):\n",
    "        gdown.download(dataset_url, output = dataset_name, quiet=False)\n",
    "        \n",
    "def pose_dis(pose_1, pose_2):\n",
    "    \"\"\"Compute distance between pose_1 and pose_2\n",
    "    \"\"\"\n",
    "    x = pose_1[0] - pose_2[0]\n",
    "    y = pose_1[1] - pose_2[1]\n",
    "    z = pose_1[2] - pose_2[2]\n",
    "\n",
    "    dis = math.sqrt(x**2+y**2+z**2)\n",
    "\n",
    "    return dis\n",
    "\n",
    "def waypoint(current_pose, Target_pose):\n",
    "    \"\"\"Generate a list of way points from current pose to target pose\n",
    "\n",
    "    Input : current pose, target pose : list [x_pos, y_pos, z_pos, x_ori, y_ori, z_ori, w_ori]\n",
    "    Return : a list of way points\n",
    "\n",
    "    \"\"\"\n",
    "    waypoint_list = []\n",
    "    factor = 0.5\n",
    "    sub_pose = copy.deepcopy(current_pose)\n",
    "\n",
    "    # threshold : distance between sub_pose and target_pose = 0.05 meter\n",
    "    dis = pose_dis(sub_pose, Target_pose)\n",
    "    while dis > 0.05:\n",
    "        sub_pose[0] = (sub_pose[0] + Target_pose[0])*factor\n",
    "        sub_pose[1] = (sub_pose[1] + Target_pose[1])*factor\n",
    "        sub_pose[2] = (sub_pose[2] + Target_pose[2])*factor\n",
    "        sub_pose[3] = Target_pose[3]\n",
    "        sub_pose[4] = Target_pose[4]\n",
    "        sub_pose[5] = Target_pose[5]\n",
    "        sub_pose[6] = Target_pose[6]\n",
    "\n",
    "        dis = pose_dis(sub_pose, Target_pose)\n",
    "\n",
    "        waypoint_list.append(copy.deepcopy(sub_pose))\n",
    "\n",
    "    waypoint_list.append(Target_pose)\n",
    "\n",
    "    return waypoint_list"
   ]
  },
  {
   "cell_type": "markdown",
   "metadata": {},
   "source": [
    "## Testing example\n",
    "we will move to 'data' directory to start all examples, this directory have been added to '.gitignoe' , so is convenient to test in local and light in cloud"
   ]
  },
  {
   "cell_type": "code",
   "execution_count": null,
   "metadata": {},
   "outputs": [
    {
     "name": "stdout",
     "output_type": "stream",
     "text": [
      "/home/arg/arg_robotics_tools/data\n"
     ]
    }
   ],
   "source": [
    "cd data"
   ]
  },
  {
   "cell_type": "markdown",
   "metadata": {},
   "source": [
    "### gdown_unzip(id, filename)\n",
    "id is the google drive id, filename is your filename in google drive (should be a .zip file )"
   ]
  },
  {
   "cell_type": "code",
   "execution_count": null,
   "metadata": {},
   "outputs": [
    {
     "name": "stderr",
     "output_type": "stream",
     "text": [
      "Downloading...\n",
      "From: https://drive.google.com/u/1/uc?id=1cSlh3DvfhyKZ2wWj15cm5SPq2vH5oQIF\n",
      "To: /home/arg/arg_robotics_tools/data/subt_apriltags.zip\n",
      "100%|██████████████████████████████████████████████████████████████████| 66.9M/66.9M [00:00<00:00, 104MB/s]\n"
     ]
    }
   ],
   "source": [
    "#| hide\n",
    "id = '1cSlh3DvfhyKZ2wWj15cm5SPq2vH5oQIF'\n",
    "filename = \"subt_apriltags\"\n",
    "gdown_unzip(id, filename)"
   ]
  },
  {
   "cell_type": "code",
   "execution_count": null,
   "metadata": {},
   "outputs": [
    {
     "name": "stderr",
     "output_type": "stream",
     "text": [
      "Downloading...\n",
      "From: https://drive.google.com/u/1/uc?id=1igQ3W7Qp_N0yBpBsROuC_OMzvbv6C79F\n",
      "To: /home/arg/arg_robotics_tools/data/clutter_maskrcnn_model.pt\n",
      "100%|████████████████████████████████████████████████████████████████████| 176M/176M [00:01<00:00, 108MB/s]\n"
     ]
    }
   ],
   "source": [
    "#| hide\n",
    "id = '1igQ3W7Qp_N0yBpBsROuC_OMzvbv6C79F'\n",
    "filename = \"clutter_maskrcnn_model.pt\"\n",
    "gdown_download(id, filename)"
   ]
  },
  {
   "cell_type": "code",
   "execution_count": null,
   "metadata": {},
   "outputs": [
    {
     "name": "stdout",
     "output_type": "stream",
     "text": [
      "clutter_maskrcnn_model.pt  \u001b[0m\u001b[01;34msubt_apriltags\u001b[0m/  \u001b[01;31msubt_apriltags.zip\u001b[0m\r\n",
      "README.txt  camera_info.yaml  depth  rgb  rviz.png  tag_bundles.yaml\r\n"
     ]
    }
   ],
   "source": [
    "ls && ls subt_apriltags"
   ]
  },
  {
   "cell_type": "markdown",
   "metadata": {},
   "source": [
    "### waypoint(current_pose, Target_pose)\n",
    "Input : current pose, target pose : list [x_pos, y_pos, z_pos, x_ori, y_ori, z_ori, w_ori]\n",
    "\n",
    "Return : a list of way points"
   ]
  },
  {
   "cell_type": "code",
   "execution_count": null,
   "metadata": {},
   "outputs": [],
   "source": []
  }
 ],
 "metadata": {
  "kernelspec": {
   "display_name": "Python 3 (ipykernel)",
   "language": "python",
   "name": "python3"
  }
 },
 "nbformat": 4,
 "nbformat_minor": 2
}
