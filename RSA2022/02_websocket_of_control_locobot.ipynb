{
 "cells": [
  {
   "cell_type": "code",
   "execution_count": null,
   "id": "3128e7ed",
   "metadata": {},
   "outputs": [],
   "source": [
    "from arg_robotics_tools import websocket_rosbridge as socket\n",
    "from pynput import keyboard\n",
    "import threading\n",
    "import time"
   ]
  },
  {
   "cell_type": "code",
   "execution_count": null,
   "id": "166da020",
   "metadata": {},
   "outputs": [],
   "source": [
    "data = {'linear':{'x':0.0, 'y':0.0, 'z':0.0},'angular':{'x':0.0, 'y':0.0, 'z':0.0}}"
   ]
  },
  {
   "cell_type": "code",
   "execution_count": null,
   "id": "a9f98bea",
   "metadata": {},
   "outputs": [],
   "source": [
    "def pub():\n",
    "    global data\n",
    "    print(\"123\")\n",
    "    key_controller = socket.ros_socket(\"0.0.0.0\",9090) #'192.168.50.187'\n",
    "    talker = socket.roslibpy.Topic(key_controller.client, '/test', 'geometry_msgs/Twist')\n",
    "    while True:\n",
    "        talker.publish(socket.roslibpy.Message(data))\n",
    "        time.sleep(0.05)\n",
    "\n",
    "def on_press(key):\n",
    "    global data\n",
    "    try:\n",
    "        print('alphanumeric key {0} pressed'.format(key.char))\n",
    "    except AttributeError:\n",
    "        #print('special key {0} pressed'.format(key))\n",
    "        if key == keyboard.Key.up:\n",
    "            #print('up')\n",
    "            data = {'linear':{'x':0.1, 'y':0.0, 'z':0.0},'angular':{'x':0.0, 'y':0.0, 'z':0.0}}\n",
    "        elif key == keyboard.Key.down:\n",
    "            #print('down')\n",
    "            data = {'linear':{'x':-0.1, 'y':0.0, 'z':0.0},'angular':{'x':0.0, 'y':0.0, 'z':0.0}}\n",
    "            \n",
    "        elif key == keyboard.Key.left:\n",
    "            #print('left')\n",
    "            data = {'linear':{'x':0.0, 'y':0.0, 'z':0.0},'angular':{'x':0.0, 'y':0.0, 'z':0.1}}\n",
    "            \n",
    "        elif key == keyboard.Key.right:\n",
    "            #print('right')\n",
    "            data = {'linear':{'x':0.0, 'y':0.0, 'z':0.0},'angular':{'x':0.0, 'y':0.0, 'z':-0.1}}\n",
    "            \n",
    "\n",
    "def on_release(key):\n",
    "    global data\n",
    "    #print('{0} released'.format(key))\n",
    "    data = {'linear':{'x':0.0, 'y':0.0, 'z':0.0},'angular':{'x':0.0, 'y':0.0, 'z':0.0}}\n",
    "    if key == keyboard.Key.esc:\n",
    "        # Stop listener\n",
    "        return False"
   ]
  },
  {
   "cell_type": "code",
   "execution_count": null,
   "id": "6759448e",
   "metadata": {},
   "outputs": [
    {
     "name": "stdout",
     "output_type": "stream",
     "text": [
      "123\n"
     ]
    }
   ],
   "source": [
    "# Collect events until released\n",
    "t = threading.Thread(target = pub)\n",
    "t.start()\n",
    "with keyboard.Listener(on_press=on_press, on_release=on_release) as listener:\n",
    "    listener.join()\n",
    "\n",
    "# ...or, in a non-blocking fashion:\n",
    "listener = keyboard.Listener(on_press=on_press,on_release=on_release)\n",
    "listener.start()\n",
    "\n"
   ]
  },
  {
   "cell_type": "code",
   "execution_count": null,
   "id": "b29acfa7",
   "metadata": {},
   "outputs": [],
   "source": []
  }
 ],
 "metadata": {
  "kernelspec": {
   "display_name": "Python 3 (ipykernel)",
   "language": "python",
   "name": "python3"
  }
 },
 "nbformat": 4,
 "nbformat_minor": 5
}
