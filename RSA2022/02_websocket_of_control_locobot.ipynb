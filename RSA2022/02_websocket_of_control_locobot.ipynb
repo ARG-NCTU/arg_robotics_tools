{
 "cells": [
  {
   "cell_type": "code",
   "execution_count": null,
   "id": "3128e7ed",
   "metadata": {},
   "outputs": [],
   "source": [
    "from arg_robotics_tools import websocket_rosbridge as socket\n",
    "from pynput import keyboard\n",
    "import threading\n",
    "import time"
   ]
  },
  {
   "cell_type": "code",
   "execution_count": null,
   "id": "166da020",
   "metadata": {},
   "outputs": [],
   "source": [
    "data = {'linear':{'x':0.0, 'y':0.0, 'z':0.0},'angular':{'x':0.0, 'y':0.0, 'z':0.0}}"
   ]
  },
  {
   "cell_type": "code",
   "execution_count": null,
   "id": "a9f98bea",
   "metadata": {},
   "outputs": [],
   "source": [
    "def pub():\n",
    "    global data\n",
    "    key_controller = socket.ros_socket(\"192.168.50.187\",9090) #'192.168.50.187'\n",
    "    talker = socket.roslibpy.Topic(key_controller.client, 'cmd_vel_mux/input/teleop', 'geometry_msgs/Twist')\n",
    "    while True:\n",
    "        talker.publish(socket.roslibpy.Message(data))\n",
    "        time.sleep(0.05)\n",
    "\n",
    "def on_press(key):\n",
    "    global data\n",
    "    try:\n",
    "        print('alphanumeric key {0} pressed'.format(key.char), end='\\r')\n",
    "    except AttributeError:\n",
    "        #print('special key {0} pressed'.format(key))\n",
    "        if key == keyboard.Key.up:\n",
    "            data = {'linear':{'x':0.1, 'y':0.0, 'z':0.0},'angular':{'x':0.0, 'y':0.0, 'z':0.0}}\n",
    "        elif key == keyboard.Key.down:\n",
    "            data = {'linear':{'x':-0.1, 'y':0.0, 'z':0.0},'angular':{'x':0.0, 'y':0.0, 'z':0.0}}\n",
    "            \n",
    "        elif key == keyboard.Key.left:\n",
    "            data = {'linear':{'x':0.0, 'y':0.0, 'z':0.0},'angular':{'x':0.0, 'y':0.0, 'z':1}}\n",
    "            \n",
    "        elif key == keyboard.Key.right:\n",
    "            data = {'linear':{'x':0.0, 'y':0.0, 'z':0.0},'angular':{'x':0.0, 'y':0.0, 'z':-1}}\n",
    "            \n",
    "\n",
    "def on_release(key):\n",
    "    global data\n",
    "    data = {'linear':{'x':0.0, 'y':0.0, 'z':0.0},'angular':{'x':0.0, 'y':0.0, 'z':0.0}}\n",
    "    if key == keyboard.Key.esc:\n",
    "        # Stop listener\n",
    "        return False"
   ]
  },
  {
   "cell_type": "code",
   "execution_count": null,
   "id": "6759448e",
   "metadata": {},
   "outputs": [
    {
     "name": "stdout",
     "output_type": "stream",
     "text": [
      "alphanumeric key c pressed\r"
     ]
    },
    {
     "ename": "KeyboardInterrupt",
     "evalue": "",
     "output_type": "error",
     "traceback": [
      "\u001b[0;31m---------------------------------------------------------------------------\u001b[0m",
      "\u001b[0;31mKeyboardInterrupt\u001b[0m                         Traceback (most recent call last)",
      "Input \u001b[0;32mIn [4]\u001b[0m, in \u001b[0;36m<cell line: 4>\u001b[0;34m()\u001b[0m\n\u001b[1;32m      3\u001b[0m t\u001b[38;5;241m.\u001b[39mstart()\n\u001b[1;32m      4\u001b[0m \u001b[38;5;28;01mwith\u001b[39;00m keyboard\u001b[38;5;241m.\u001b[39mListener(on_press\u001b[38;5;241m=\u001b[39mon_press, on_release\u001b[38;5;241m=\u001b[39mon_release) \u001b[38;5;28;01mas\u001b[39;00m listener:\n\u001b[0;32m----> 5\u001b[0m     \u001b[43mlistener\u001b[49m\u001b[38;5;241;43m.\u001b[39;49m\u001b[43mjoin\u001b[49m\u001b[43m(\u001b[49m\u001b[43m)\u001b[49m\n\u001b[1;32m      7\u001b[0m \u001b[38;5;66;03m# ...or, in a non-blocking fashion:\u001b[39;00m\n\u001b[1;32m      8\u001b[0m listener \u001b[38;5;241m=\u001b[39m keyboard\u001b[38;5;241m.\u001b[39mListener(on_press\u001b[38;5;241m=\u001b[39mon_press,on_release\u001b[38;5;241m=\u001b[39mon_release)\n",
      "File \u001b[0;32m/usr/local/lib/python3.8/dist-packages/pynput/_util/__init__.py:269\u001b[0m, in \u001b[0;36mAbstractListener.join\u001b[0;34m(self, *args)\u001b[0m\n\u001b[1;32m    268\u001b[0m \u001b[38;5;28;01mdef\u001b[39;00m \u001b[38;5;21mjoin\u001b[39m(\u001b[38;5;28mself\u001b[39m, \u001b[38;5;241m*\u001b[39margs):\n\u001b[0;32m--> 269\u001b[0m     \u001b[38;5;28;43msuper\u001b[39;49m\u001b[43m(\u001b[49m\u001b[43mAbstractListener\u001b[49m\u001b[43m,\u001b[49m\u001b[43m \u001b[49m\u001b[38;5;28;43mself\u001b[39;49m\u001b[43m)\u001b[49m\u001b[38;5;241;43m.\u001b[39;49m\u001b[43mjoin\u001b[49m\u001b[43m(\u001b[49m\u001b[38;5;241;43m*\u001b[39;49m\u001b[43margs\u001b[49m\u001b[43m)\u001b[49m\n\u001b[1;32m    271\u001b[0m     \u001b[38;5;66;03m# Reraise any exceptions\u001b[39;00m\n\u001b[1;32m    272\u001b[0m     \u001b[38;5;28;01mtry\u001b[39;00m:\n",
      "File \u001b[0;32m/usr/lib/python3.8/threading.py:1011\u001b[0m, in \u001b[0;36mThread.join\u001b[0;34m(self, timeout)\u001b[0m\n\u001b[1;32m   1008\u001b[0m     \u001b[38;5;28;01mraise\u001b[39;00m \u001b[38;5;167;01mRuntimeError\u001b[39;00m(\u001b[38;5;124m\"\u001b[39m\u001b[38;5;124mcannot join current thread\u001b[39m\u001b[38;5;124m\"\u001b[39m)\n\u001b[1;32m   1010\u001b[0m \u001b[38;5;28;01mif\u001b[39;00m timeout \u001b[38;5;129;01mis\u001b[39;00m \u001b[38;5;28;01mNone\u001b[39;00m:\n\u001b[0;32m-> 1011\u001b[0m     \u001b[38;5;28;43mself\u001b[39;49m\u001b[38;5;241;43m.\u001b[39;49m\u001b[43m_wait_for_tstate_lock\u001b[49m\u001b[43m(\u001b[49m\u001b[43m)\u001b[49m\n\u001b[1;32m   1012\u001b[0m \u001b[38;5;28;01melse\u001b[39;00m:\n\u001b[1;32m   1013\u001b[0m     \u001b[38;5;66;03m# the behavior of a negative timeout isn't documented, but\u001b[39;00m\n\u001b[1;32m   1014\u001b[0m     \u001b[38;5;66;03m# historically .join(timeout=x) for x<0 has acted as if timeout=0\u001b[39;00m\n\u001b[1;32m   1015\u001b[0m     \u001b[38;5;28mself\u001b[39m\u001b[38;5;241m.\u001b[39m_wait_for_tstate_lock(timeout\u001b[38;5;241m=\u001b[39m\u001b[38;5;28mmax\u001b[39m(timeout, \u001b[38;5;241m0\u001b[39m))\n",
      "File \u001b[0;32m/usr/lib/python3.8/threading.py:1027\u001b[0m, in \u001b[0;36mThread._wait_for_tstate_lock\u001b[0;34m(self, block, timeout)\u001b[0m\n\u001b[1;32m   1025\u001b[0m \u001b[38;5;28;01mif\u001b[39;00m lock \u001b[38;5;129;01mis\u001b[39;00m \u001b[38;5;28;01mNone\u001b[39;00m:  \u001b[38;5;66;03m# already determined that the C code is done\u001b[39;00m\n\u001b[1;32m   1026\u001b[0m     \u001b[38;5;28;01massert\u001b[39;00m \u001b[38;5;28mself\u001b[39m\u001b[38;5;241m.\u001b[39m_is_stopped\n\u001b[0;32m-> 1027\u001b[0m \u001b[38;5;28;01melif\u001b[39;00m \u001b[43mlock\u001b[49m\u001b[38;5;241;43m.\u001b[39;49m\u001b[43macquire\u001b[49m\u001b[43m(\u001b[49m\u001b[43mblock\u001b[49m\u001b[43m,\u001b[49m\u001b[43m \u001b[49m\u001b[43mtimeout\u001b[49m\u001b[43m)\u001b[49m:\n\u001b[1;32m   1028\u001b[0m     lock\u001b[38;5;241m.\u001b[39mrelease()\n\u001b[1;32m   1029\u001b[0m     \u001b[38;5;28mself\u001b[39m\u001b[38;5;241m.\u001b[39m_stop()\n",
      "\u001b[0;31mKeyboardInterrupt\u001b[0m: "
     ]
    }
   ],
   "source": [
    "# Collect events until released\n",
    "t = threading.Thread(target = pub)\n",
    "t.start()\n",
    "with keyboard.Listener(on_press=on_press, on_release=on_release) as listener:\n",
    "    listener.join()\n",
    "\n",
    "# ...or, in a non-blocking fashion:\n",
    "listener = keyboard.Listener(on_press=on_press,on_release=on_release)\n",
    "listener.start()\n",
    "\n"
   ]
  },
  {
   "cell_type": "code",
   "execution_count": null,
   "id": "b29acfa7",
   "metadata": {},
   "outputs": [],
   "source": []
  }
 ],
 "metadata": {
  "kernelspec": {
   "display_name": "Python 3 (ipykernel)",
   "language": "python",
   "name": "python3"
  }
 },
 "nbformat": 4,
 "nbformat_minor": 5
}
