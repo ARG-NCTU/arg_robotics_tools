{
 "cells": [
  {
   "cell_type": "code",
   "execution_count": 1,
   "id": "ab3dd0fe",
   "metadata": {},
   "outputs": [],
   "source": [
    "# default_exp websocket_rosbridge"
   ]
  },
  {
   "cell_type": "markdown",
   "id": "5c3dbaf0",
   "metadata": {},
   "source": [
    "# Websocket with rosbridge\n",
    "    this notebook is a tutorial for no ros computer to get ros information by rosbridge.\n",
    "    let user to know how to use roslibpy library to communicate to ros device.\n",
    "    "
   ]
  },
  {
   "cell_type": "code",
   "execution_count": 2,
   "id": "c7ff35f4",
   "metadata": {},
   "outputs": [],
   "source": [
    "#hide \n",
    "from nbdev.showdoc import *"
   ]
  },
  {
   "cell_type": "code",
   "execution_count": 3,
   "id": "a136b89d",
   "metadata": {},
   "outputs": [],
   "source": [
    "import roslibpy\n",
    "import time"
   ]
  },
  {
   "cell_type": "code",
   "execution_count": 4,
   "id": "11e7d6d7",
   "metadata": {},
   "outputs": [],
   "source": [
    "def println(ros_list):\n",
    "    if len(ros_list) == 0:\n",
    "        print('Empty')\n",
    "    else:\n",
    "        for i in ros_list:\n",
    "            print(i)\n",
    "    return 0\n",
    "\n",
    "def subscriber_callback(message):\n",
    "    print(message)"
   ]
  },
  {
   "cell_type": "markdown",
   "id": "dac3916a",
   "metadata": {},
   "source": [
    "# Connceting\n",
    "like socket connection, roslibpy connect to server by ip_number + port_number(default:9090)\n",
    "you can use .is_connect to know connect success or not"
   ]
  },
  {
   "cell_type": "code",
   "execution_count": 5,
   "id": "06e161ca",
   "metadata": {},
   "outputs": [
    {
     "name": "stdout",
     "output_type": "stream",
     "text": [
      "input host IP: 192.168.1.42\n",
      "Is ROS connected? True\n"
     ]
    }
   ],
   "source": [
    "host = input(\"input host IP: \")\n",
    "\n",
    "client = roslibpy.Ros(host = host, port = 9090)\n",
    "client.run()\n",
    "print('Is ROS connected?', client.is_connected)"
   ]
  },
  {
   "cell_type": "markdown",
   "id": "435e00cc",
   "metadata": {},
   "source": [
    "# Functional part\n",
    "    "
   ]
  },
  {
   "cell_type": "code",
   "execution_count": null,
   "id": "2835c34c",
   "metadata": {
    "scrolled": true
   },
   "outputs": [
    {
     "name": "stdout",
     "output_type": "stream",
     "text": [
      "please input command(topic, node, subscriber quit): publisher\n",
      "what message you want to publishreboot\n",
      "Sending message...\n",
      "Sending message...\n",
      "Sending message...\n",
      "Sending message...\n",
      "Sending message...\n",
      "Sending message...\n",
      "Sending message...\n",
      "Sending message...\n",
      "Sending message...\n",
      "Sending message...\n",
      "Sending message...\n",
      "Sending message...\n",
      "Sending message...\n",
      "Sending message...\n",
      "Sending message...\n",
      "Sending message...\n",
      "Sending message...\n",
      "Sending message...\n",
      "Sending message...\n",
      "Sending message...\n",
      "Sending message...\n",
      "Sending message...\n",
      "Sending message...\n",
      "Sending message...\n",
      "Sending message...\n",
      "Sending message...\n",
      "Sending message...\n",
      "Sending message...\n",
      "Sending message...\n",
      "Sending message...\n",
      "Sending message...\n",
      "Sending message...\n",
      "Sending message...\n",
      "Sending message...\n",
      "Sending message...\n",
      "Sending message...\n",
      "Sending message...\n",
      "Sending message...\n",
      "Sending message...\n",
      "Sending message...\n",
      "Sending message...\n",
      "Sending message...\n",
      "Sending message...\n",
      "Sending message...\n",
      "Sending message...\n",
      "Sending message...\n",
      "Sending message...\n",
      "Sending message...\n",
      "Sending message...\n",
      "Sending message...\n",
      "Sending message...\n",
      "Sending message...\n",
      "Sending message...\n",
      "Sending message...\n",
      "Sending message...\n",
      "Sending message...\n",
      "Sending message...\n",
      "Sending message...\n",
      "Sending message...\n",
      "Sending message...\n",
      "Sending message...\n",
      "Sending message...\n",
      "Sending message...\n",
      "Sending message...\n",
      "Sending message...\n",
      "Sending message...\n",
      "Sending message...\n",
      "Sending message...\n",
      "Sending message...\n",
      "Sending message...\n",
      "Sending message...\n",
      "Sending message...\n",
      "Sending message...\n",
      "Sending message...\n",
      "Sending message...\n",
      "Sending message...\n",
      "Sending message...\n",
      "Sending message...\n",
      "Sending message...\n",
      "Sending message...\n",
      "Sending message...\n",
      "Sending message...\n",
      "Sending message...\n",
      "Sending message...\n",
      "Sending message...\n",
      "Sending message...\n",
      "Sending message...\n",
      "Sending message...\n",
      "Sending message...\n",
      "Sending message...\n",
      "Sending message...\n",
      "Sending message...\n",
      "Sending message...\n",
      "Sending message...\n",
      "Sending message...\n",
      "Sending message...\n",
      "Sending message...\n",
      "Sending message...\n",
      "Sending message...\n"
     ]
    }
   ],
   "source": [
    "while True:\n",
    "    command = input('please input command(topic, node, subscriber quit): ')\n",
    "    if command == 'topic':\n",
    "        print('topic')\n",
    "        topic = client.get_topics()\n",
    "        println(topic)\n",
    "        \n",
    "    elif command == 'node':\n",
    "        print('node')\n",
    "        node = client.get_nodes()\n",
    "        println(node)\n",
    "        \n",
    "    elif command == 'service':\n",
    "        print('service')\n",
    "        service = client.get_services()\n",
    "        println(service)\n",
    "    \n",
    "    elif command == 'para':\n",
    "        print('parameter')\n",
    "        para = client.get_params()\n",
    "        println(para)\n",
    "    elif command == 'publisher':\n",
    "        message_data = input('what message you want to publish')\n",
    "        talker = roslibpy.Topic(client, '/dts_restart', 'std_msgs/String')\n",
    "        for i in range(1,100):\n",
    "            talker.publish(roslibpy.Message({'data': message_data}))\n",
    "            print('Sending message...')\n",
    "            time.sleep(1)\n",
    "        talker.unadvertise()\n",
    "        \n",
    "    elif command == 'subscriber':\n",
    "        topic = client.get_topics()\n",
    "        println(topic)\n",
    "        topic_name = input('what topic you want to listen')\n",
    "        topic_type = client.get_topic_type(topic_name)\n",
    "        print('type_is ' + topic_type)\n",
    "        listener = roslibpy.Topic(client, topic_name, topic_type, throttle_rate=100)\n",
    "        listener.subscribe(subscriber_callback)\n",
    "\n",
    "    elif command == 'close':\n",
    "        listener.unsubscribe()\n",
    "         \n",
    "    elif command == 'quit':\n",
    "        client.terminate()\n",
    "        break\n"
   ]
  },
  {
   "cell_type": "code",
   "execution_count": null,
   "id": "b3312faa",
   "metadata": {},
   "outputs": [],
   "source": []
  },
  {
   "cell_type": "code",
   "execution_count": null,
   "id": "aac8b1f6",
   "metadata": {},
   "outputs": [],
   "source": []
  }
 ],
 "metadata": {
  "kernelspec": {
   "display_name": "Python 3 (ipykernel)",
   "language": "python",
   "name": "python3"
  },
  "language_info": {
   "codemirror_mode": {
    "name": "ipython",
    "version": 3
   },
   "file_extension": ".py",
   "mimetype": "text/x-python",
   "name": "python",
   "nbconvert_exporter": "python",
   "pygments_lexer": "ipython3",
   "version": "3.8.10"
  }
 },
 "nbformat": 4,
 "nbformat_minor": 5
}
