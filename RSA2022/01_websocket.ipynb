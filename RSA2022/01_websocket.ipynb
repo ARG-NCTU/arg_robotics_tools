{
 "cells": [
  {
   "cell_type": "markdown",
   "id": "5c3dbaf0",
   "metadata": {},
   "source": [
    "# Websocket with rosbridge\n",
    "    This notebook is a tools for no ros computer to communicate with ros system through rosbridge."
   ]
  },
  {
   "cell_type": "code",
   "execution_count": null,
   "id": "a136b89d",
   "metadata": {},
   "outputs": [],
   "source": [
    "import roslibpy\n",
    "import time\n",
    "import threading"
   ]
  },
  {
   "cell_type": "markdown",
   "id": "cb2968f5",
   "metadata": {},
   "source": [
    "## global variable"
   ]
  },
  {
   "cell_type": "code",
   "execution_count": null,
   "id": "8a025522",
   "metadata": {},
   "outputs": [],
   "source": [
    "subscriber_dic = {}\n",
    "thread = []\n",
    "data = {}"
   ]
  },
  {
   "cell_type": "markdown",
   "id": "dac3916a",
   "metadata": {},
   "source": [
    "# Connceting\n",
    "Like socket connection, roslibpy connect to server by ip_number + port_number(default:9090)\n",
    "Use .is_connect to know connect success or not"
   ]
  },
  {
   "cell_type": "code",
   "execution_count": null,
   "id": "06e161ca",
   "metadata": {},
   "outputs": [
    {
     "name": "stdout",
     "output_type": "stream",
     "text": [
      "input host IP: 0.0.0.0\n",
      "Is ROS connected? True\n"
     ]
    }
   ],
   "source": [
    "host = input(\"input host IP: \")\n",
    "\n",
    "client = roslibpy.Ros(host = host, port = 9090)\n",
    "client.run()\n",
    "print('Is ROS connected?', client.is_connected)"
   ]
  },
  {
   "cell_type": "markdown",
   "id": "e724e64b",
   "metadata": {},
   "source": [
    "## Define subscriber function & subscriber call back"
   ]
  },
  {
   "cell_type": "code",
   "execution_count": null,
   "id": "11e7d6d7",
   "metadata": {},
   "outputs": [],
   "source": [
    "def println(ros_list):\n",
    "    if len(ros_list) == 0:\n",
    "        print('Empty')\n",
    "    else:\n",
    "        for i in ros_list:\n",
    "            print(i)\n",
    "    return 0\n",
    "   \n",
    "# def publisher(host, target_topic, message_data):\n",
    "#     print('this is publisher of ' + target_topic )\n",
    "#     client = roslibpy.Ros(host = host, port = 9090)\n",
    "#     talker = roslibpy.Topic(client, '/'+target_topic , 'std_msgs/String')\n",
    "#     print('it will publish ' + message_data + ' to ' + target_topic)\n",
    "#     talker.publish(roslibpy.Message({'data': message_data}))\n",
    "#     print('Sending '+ message_data  +' ...')\n",
    "#     talker.unadvertise()\n",
    "    \n",
    "def subscriber(host, topic_name, topic_type):\n",
    "    #print('this is subscriber of ' + topic_name )\n",
    "    client = roslibpy.Ros(host = host, port = 9090)\n",
    "    listener = roslibpy.Topic(client, topic_name, topic_type, throttle_rate=1000)\n",
    "    subscriber_dic[topic_name] = listener\n",
    "    listener.subscribe(subscriber_callback)\n",
    "    \n",
    "def subscriber_callback(message):\n",
    "    data[str(message['data'].split('@')[0])] = message['data'].split('@')[1]"
   ]
  },
  {
   "cell_type": "code",
   "execution_count": null,
   "id": "8974cd49",
   "metadata": {},
   "outputs": [],
   "source": [
    "def show(datas):\n",
    "    while True:\n",
    "        print(datas, end='\\r')\n",
    "        time.sleep(0.1)"
   ]
  },
  {
   "cell_type": "code",
   "execution_count": null,
   "id": "2b4e1e6f",
   "metadata": {},
   "outputs": [
    {
     "name": "stdout",
     "output_type": "stream",
     "text": [
      "{}\r"
     ]
    }
   ],
   "source": [
    "show_data = threading.Thread(target = show, args=(data,))\n",
    "show_data.start()"
   ]
  },
  {
   "cell_type": "markdown",
   "id": "435e00cc",
   "metadata": {},
   "source": [
    "# Functional part\n",
    "    "
   ]
  },
  {
   "cell_type": "code",
   "execution_count": null,
   "id": "2835c34c",
   "metadata": {},
   "outputs": [
    {
     "name": "stdout",
     "output_type": "stream",
     "text": [
      "please input command(topic, node, subscriber, publisher, close, quit): publisher\n",
      "what message & topic you want to publish: topic,message string,testing publisher\n",
      "it will publish testing publisher to string\n",
      "Sending testing publisher ...\n",
      "\n",
      "---------------------------------------------------\n",
      "please input command(topic, node, subscriber, publisher, close, quit): subscriber\n",
      "/rosout_agg\n",
      "/rosout\n",
      "/client_count\n",
      "/connected_clients\n",
      "/test\n",
      "/test1\n",
      "/string\n",
      "\n",
      "what topic you want to listen: test\n",
      "type_is std_msgs/String\n",
      "\n",
      "---------------------------------------------------\n",
      "please input command(topic, node, subscriber, publisher, close, quit): subscriber\n",
      "/rosout_agghis is test message'}\n",
      "/rosout\n",
      "/client_count\n",
      "/connected_clients\n",
      "/test\n",
      "/test1\n",
      "/string\n",
      "\n",
      "what topic you want to listen: test1\n",
      "type_is std_msgs/Stringmessage'}\n",
      "\n",
      "---------------------------------------------------\n",
      "please input command(topic, node, subscriber, publisher, close, quit): close\n",
      "what topic you want to unsubscribe: test: 'HI this is another test message'}\n",
      "{'test': 'this is test message', 'test1': 'HI this is another test message'}\n",
      "---------------------------------------------------\n",
      "please input command(topic, node, subscriber, publisher, close, quit): quit\n",
      "{'test1': 'HI this is another test message'}\r"
     ]
    }
   ],
   "source": [
    "while True:\n",
    "    command = input('please input command(topic, node, subscriber, publisher, close, quit): ')\n",
    "    if command == 'topic':\n",
    "        print('topic')\n",
    "        topic = client.get_topics()\n",
    "        println(topic)\n",
    "        \n",
    "    elif command == 'node':\n",
    "        print('node')\n",
    "        node = client.get_nodes()\n",
    "        println(node)\n",
    "        \n",
    "    elif command == 'service':\n",
    "        print('service')\n",
    "        service = client.get_services()\n",
    "        println(service)\n",
    "    \n",
    "    elif command == 'para':\n",
    "        print('parameter')\n",
    "        para = client.get_params()\n",
    "        println(para)\n",
    "    elif command == 'publisher':\n",
    "        \n",
    "        raw_message = input('what message & topic you want to publish: topic,message ')\n",
    "        target_topic = raw_message.split(',')[0]\n",
    "        message_data = raw_message.split(',')[1]\n",
    "        talker = roslibpy.Topic(client, '/'+target_topic , 'std_msgs/String')\n",
    "        print('it will publish ' + message_data + ' to ' + target_topic)\n",
    "        talker.publish(roslibpy.Message({'data': message_data}))\n",
    "        print('Sending '+ message_data  +' ...')\n",
    "        talker.unadvertise()\n",
    "        #thread.append(threading.Thread(target = publisher, args=(host, target_topic, message_data)))\n",
    "        #thread[len(thread)-1].start()\n",
    "        \n",
    "    elif command == 'subscriber':\n",
    "        topic = client.get_topics()\n",
    "        println(topic)\n",
    "        print('')\n",
    "        topic_name = input('what topic you want to listen: ')\n",
    "        topic_name = '/' + topic_name\n",
    "        topic_type = client.get_topic_type(topic_name)\n",
    "        print('type_is ' + topic_type)\n",
    "        \n",
    "        if topic_name in subscriber_dic:\n",
    "            pass\n",
    "        else:\n",
    "            thread.append(threading.Thread(target = subscriber, args=(host, topic_name, topic_type)))\n",
    "            thread[len(thread)-1].start()\n",
    "\n",
    "    elif command == 'close':\n",
    "        topic = input('what topic you want to unsubscribe: ')\n",
    "        try:\n",
    "            subscriber_dic['/' + topic].unsubscribe()\n",
    "            data.clear()\n",
    "        except:\n",
    "            print('invalid topic name')\n",
    "    elif command == 'quit':\n",
    "        client.terminate()\n",
    "        break\n",
    "    print('')    \n",
    "    print('---------------------------------------------------')\n",
    "    \n",
    "    \n"
   ]
  }
 ],
 "metadata": {
  "kernelspec": {
   "display_name": "Python 3 (ipykernel)",
   "language": "python",
   "name": "python3"
  }
 },
 "nbformat": 4,
 "nbformat_minor": 5
}
