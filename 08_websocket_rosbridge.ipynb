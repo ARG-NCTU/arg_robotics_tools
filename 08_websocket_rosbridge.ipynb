{
 "cells": [
  {
   "cell_type": "code",
   "execution_count": null,
   "id": "6d0ee455",
   "metadata": {},
   "outputs": [],
   "source": [
    "#| default_exp websocket_rosbridge"
   ]
  },
  {
   "cell_type": "markdown",
   "id": "69beb936",
   "metadata": {},
   "source": [
    "# Websocket with rosbridge\n",
    "    this notebook is a tutorial for no ros computer to get ros information by rosbridge.\n",
    "    let user to know how to use roslibpy library to communicate to ros device."
   ]
  },
  {
   "cell_type": "code",
   "execution_count": null,
   "id": "66172eab",
   "metadata": {},
   "outputs": [],
   "source": [
    "#| hide \n",
    "from nbdev.showdoc import *"
   ]
  },
  {
   "cell_type": "markdown",
   "id": "18c35243",
   "metadata": {},
   "source": [
    "## Function define part"
   ]
  },
  {
   "cell_type": "code",
   "execution_count": null,
   "id": "410d41f2",
   "metadata": {},
   "outputs": [],
   "source": [
    "# |export\n",
    "import roslibpy\n",
    "import time"
   ]
  },
  {
   "cell_type": "code",
   "execution_count": null,
   "id": "d55b80bb",
   "metadata": {},
   "outputs": [],
   "source": [
    "# |export \n",
    "class ros_socket():\n",
    "    def __init__(self, ip, port=9090):\n",
    "        '''\n",
    "        __init__\n",
    "        \n",
    "        Input:\n",
    "            ip(type: string) ip address you want to connect\n",
    "            port(type: int) default is 9090 \n",
    "        '''\n",
    "        self.ip = ip\n",
    "        self.port = port\n",
    "        self.topic = []\n",
    "        self.node = []\n",
    "        self.topic_name = ''\n",
    "        self.topic_type = ''\n",
    "        self.client = roslibpy.Ros(host = ip, port = port)\n",
    "        self.client.run()\n",
    "    \n",
    "    def get_topic(self):\n",
    "        self.topic = self.client.get_topics()\n",
    "        return self.topic\n",
    "    \n",
    "    def get_node(self):\n",
    "        self.node = self.client.get_nodes()\n",
    "        return self.node\n",
    "    \n",
    "    def check_connecting(self):\n",
    "        print('Is ROS connected?',  self.client.is_connected)\n",
    "    \n",
    "    def subscriber(self, topic_name, subscribe_callback, rate_in_ms=1000):\n",
    "        '''\n",
    "        subscriber\n",
    "        subscribe topic with rate (default = 1sec)\n",
    "        \n",
    "        Input:\n",
    "            topic_name(type:)\n",
    "            subscribe_callback(message)\n",
    "            (type: function) *only one argument message-> that will load with data you subscribing\n",
    "        '''\n",
    "        self.topic_name = topic_name\n",
    "        self.topic_type = self.client.get_topic_type(self.topic_name)\n",
    "        listener = roslibpy.Topic(self.client, self.topic_name, self.topic_type,throttle_rate = rate_in_ms)\n",
    "        listener.subscribe(subscribe_callback)\n",
    "    \n",
    "    def publisher(self, topic_name, topic_type, message_data):\n",
    "        '''\n",
    "        publisher\n",
    "        publish message_data to topic_name\n",
    "        \n",
    "        Input:\n",
    "            topic_name(type:string)\n",
    "            topic_type(type:)\n",
    "            message_data(type:topic_type)\n",
    "        '''\n",
    "        talker = roslibpy.Topic(client, topic_name, topic_type)\n",
    "        talker.publish(roslibpy.Message({'': message_data}))\n",
    "    \n",
    "    \n",
    "    def println(self, ros_list):\n",
    "        if len(ros_list) == 0:\n",
    "            print('Empty')\n",
    "        else:\n",
    "            for i in ros_list:\n",
    "                print(i)\n",
    "        \n",
    "        "
   ]
  },
  {
   "cell_type": "markdown",
   "id": "ab558e36",
   "metadata": {},
   "source": [
    "## Testing Example\n",
    "    you need open the rosbridge in server computer you want to linked first!"
   ]
  },
  {
   "cell_type": "code",
   "execution_count": null,
   "id": "a8da4923",
   "metadata": {},
   "outputs": [
    {
     "name": "stdout",
     "output_type": "stream",
     "text": [
      "Is ROS connected? True\n"
     ]
    }
   ],
   "source": [
    "socket = ros_socket('140.113.148.77',9090)\n",
    "socket.check_connecting()"
   ]
  },
  {
   "cell_type": "code",
   "execution_count": null,
   "id": "5950eeae",
   "metadata": {},
   "outputs": [
    {
     "name": "stdout",
     "output_type": "stream",
     "text": [
      "/rosapi\n",
      "/sensortower1\n",
      "/sensortower3\n",
      "/sensortower2\n",
      "/rosout\n",
      "/rosbridge_websocket\n"
     ]
    }
   ],
   "source": [
    "node = socket.get_node()\n",
    "socket.println(node)"
   ]
  },
  {
   "cell_type": "code",
   "execution_count": null,
   "id": "2fc66b15",
   "metadata": {},
   "outputs": [
    {
     "name": "stdout",
     "output_type": "stream",
     "text": [
      "/client_count\n",
      "/rosout\n",
      "/rosout_agg\n",
      "/connected_clients\n",
      "/health/sensortower3\n",
      "/health/sensortower2\n",
      "/health/sensortower1\n",
      "/zed/zed_node/left_raw/image_raw_color\n"
     ]
    }
   ],
   "source": [
    "topic = socket.get_topic()\n",
    "socket.println(topic)"
   ]
  },
  {
   "cell_type": "code",
   "execution_count": null,
   "id": "0a4b1b00",
   "metadata": {},
   "outputs": [],
   "source": [
    "sensortower_status = {}\n",
    "\n",
    "def sensor_callback(message):\n",
    "    name_id = message['data'].split('@')[0]\n",
    "    sensortower_status[name_id] =  message['data'].split('@')[1].split(':')\n",
    "    #print(sensortowe\n",
    "#socket.subscriber('/health/sensortower1', sensor_callback, 1000)"
   ]
  },
  {
   "cell_type": "code",
   "execution_count": null,
   "id": "12756b7e",
   "metadata": {},
   "outputs": [
    {
     "name": "stdout",
     "output_type": "stream",
     "text": [
      "{'sensortower3': ['0', '0'], 'sensortower1': ['0', '0'], 'sensortower2': ['0', '0']}\r"
     ]
    }
   ],
   "source": [
    "import threading\n",
    "import time\n",
    "thread = []\n",
    "\n",
    "\n",
    "def sensor_check(ip, sensor_tower_id):\n",
    "    socket_sensor = ros_socket(ip, 9090)\n",
    "    socket_sensor.subscriber('/health/sensortower' + str(sensor_tower_id+1), sensor_callback, 100)\n",
    "\n",
    "for i in range(3):\n",
    "    thread.append(threading.Thread(target=sensor_check, args =('140.113.148.77', i)))\n",
    "    thread[i].start()\n",
    "\n",
    "while True:\n",
    "    print(sensortower_status, end = '\\r')\n",
    "    time.sleep(1)\n",
    "    "
   ]
  }
 ],
 "metadata": {
  "kernelspec": {
   "display_name": "Python 3 (ipykernel)",
   "language": "python",
   "name": "python3"
  }
 },
 "nbformat": 4,
 "nbformat_minor": 5
}
