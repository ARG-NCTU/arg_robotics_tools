{
 "cells": [
  {
   "cell_type": "code",
   "execution_count": null,
   "id": "6d0ee455",
   "metadata": {},
   "outputs": [],
   "source": [
    "#| default_exp websocket_rosbridge"
   ]
  },
  {
   "cell_type": "markdown",
   "id": "69beb936",
   "metadata": {},
   "source": [
    "# Websocket with rosbridge\n",
    "    this notebook is a tutorial for no ros computer to get ros information by rosbridge.\n",
    "    let user to know how to use roslibpy library to communicate to ros device."
   ]
  },
  {
   "cell_type": "code",
   "execution_count": null,
   "id": "66172eab",
   "metadata": {},
   "outputs": [],
   "source": [
    "#| hide \n",
    "from nbdev.showdoc import *"
   ]
  },
  {
   "cell_type": "markdown",
   "id": "18c35243",
   "metadata": {},
   "source": [
    "## Function define part"
   ]
  },
  {
   "cell_type": "code",
   "execution_count": null,
   "id": "c4308422",
   "metadata": {},
   "outputs": [],
   "source": [
    "# |hide\n",
    "import threading"
   ]
  },
  {
   "cell_type": "code",
   "execution_count": null,
   "id": "410d41f2",
   "metadata": {},
   "outputs": [],
   "source": [
    "# |export\n",
    "import roslibpy\n",
    "import time"
   ]
  },
  {
   "cell_type": "code",
   "execution_count": null,
   "id": "d55b80bb",
   "metadata": {},
   "outputs": [],
   "source": [
    "# |export \n",
    "class ros_socket():\n",
    "    def __init__(self, ip, port=9090):\n",
    "        '''\n",
    "        __init__\n",
    "        \n",
    "        Input:\n",
    "            ip(type: string) ip address you want to connect\n",
    "            port(type: int) default is 9090 \n",
    "        '''\n",
    "        self.ip = ip\n",
    "        self.port = port\n",
    "        self.topic = []\n",
    "        self.node = []\n",
    "        self.topic_name = ''\n",
    "        self.topic_type = ''\n",
    "        self.client = roslibpy.Ros(host = ip, port = port)\n",
    "        self.client.run()\n",
    "    \n",
    "    def get_topic(self):\n",
    "        self.topic = self.client.get_topics()\n",
    "        return self.topic\n",
    "    \n",
    "    def get_node(self):\n",
    "        self.node = self.client.get_nodes()\n",
    "        return self.node\n",
    "    \n",
    "    def check_connecting(self):\n",
    "        print('Is ROS connected?',  self.client.is_connected)\n",
    "    \n",
    "    def subscriber(self, topic_name, subscribe_callback, rate_in_ms=1000):\n",
    "        '''\n",
    "        subscriber\n",
    "        subscribe topic with rate (default = 1sec)\n",
    "        \n",
    "        Input:\n",
    "            topic_name(type:)\n",
    "            subscribe_callback(message)\n",
    "            (type: function) *only one argument message-> that will load with data you subscribing\n",
    "        '''\n",
    "        self.topic_name = topic_name\n",
    "        self.topic_type = self.client.get_topic_type(self.topic_name)\n",
    "        listener = roslibpy.Topic(self.client, self.topic_name, self.topic_type,throttle_rate = rate_in_ms)\n",
    "        listener.subscribe(subscribe_callback)\n",
    "    \n",
    "    def publisher(self, topic_name, topic_type):\n",
    "        '''\n",
    "        publisher\n",
    "        publish message_data to topic_name\n",
    "        \n",
    "        Input:\n",
    "            topic_name(type:string)\n",
    "            topic_type(type:)\n",
    "            message_data(type:topic_type)\n",
    "        '''\n",
    "        talker = roslibpy.Topic(self.client, topic_name, topic_type)\n",
    "        return talker\n",
    "    \n",
    "    def pub(self, talker, data):\n",
    "        talker.publish(data)\n",
    "    \n",
    "    \n",
    "    def println(self, ros_list):\n",
    "        if len(ros_list) == 0:\n",
    "            print('Empty')\n",
    "        else:\n",
    "            for i in ros_list:\n",
    "                print(i)\n",
    "        \n",
    "        "
   ]
  },
  {
   "cell_type": "markdown",
   "id": "ab558e36",
   "metadata": {},
   "source": [
    "## Testing Example\n",
    "    you need open the rosbridge in server computer you want to linked first!"
   ]
  },
  {
   "cell_type": "code",
   "execution_count": null,
   "id": "a8da4923",
   "metadata": {},
   "outputs": [],
   "source": [
    "socket = ros_socket('140.113.148.77',9090)\n",
    "socket.check_connecting()"
   ]
  },
  {
   "cell_type": "code",
   "execution_count": null,
   "id": "5950eeae",
   "metadata": {},
   "outputs": [],
   "source": [
    "node = socket.get_node()\n",
    "socket.println(node)"
   ]
  },
  {
   "cell_type": "code",
   "execution_count": null,
   "id": "2fc66b15",
   "metadata": {},
   "outputs": [],
   "source": [
    "topic = socket.get_topic()\n",
    "socket.println(topic)"
   ]
  },
  {
   "cell_type": "code",
   "execution_count": null,
   "id": "0a4b1b00",
   "metadata": {},
   "outputs": [],
   "source": [
    "sensortower_status = {}\n",
    "\n",
    "def sensor_callback(message):\n",
    "   name_id = message['data'].split('@')[0]\n",
    "   sensortower_status[name_id] =  message['data'].split('@')[1].split(':')\n",
    "    print(sensortower_status)\n",
    "socket.subscriber('/health/sensortower1', sensor_callback, 1000)"
   ]
  },
  {
   "cell_type": "markdown",
   "id": "17c9c4b1",
   "metadata": {},
   "source": [
    "## Testing example of multi-sensor tower health"
   ]
  },
  {
   "cell_type": "code",
   "execution_count": null,
   "id": "12756b7e",
   "metadata": {},
   "outputs": [],
   "source": [
    "import threading\n",
    "import time\n",
    "thread = []\n",
    "\n",
    "\n",
    "def sensor_check(ip, sensor_tower_id):\n",
    "    socket_sensor = ros_socket(ip, 9090)\n",
    "    socket_sensor.subscriber('/health/sensortower' + str(sensor_tower_id+1), sensor_callback, 100)\n",
    "\n",
    "for i in range(3):\n",
    "    thread.append(threading.Thread(target=sensor_check, args =('140.113.148.77', i)))\n",
    "    thread[i].start()\n",
    "\n",
    "while True:\n",
    "    print(sensortower_status, end = '\\r')\n",
    "    time.sleep(1)\n",
    "    "
   ]
  },
  {
   "cell_type": "markdown",
   "id": "12fec42e",
   "metadata": {},
   "source": [
    "## Testing example of publisher\n",
    "If without multi-thread you can't use publisher & subscriber or multi-publisher multi-subscriber at the same time\n",
    "\n",
    "*if you want a whle example of publisher go to see RSA2022/02_websocket_of_control_locobot"
   ]
  },
  {
   "cell_type": "code",
   "execution_count": null,
   "id": "8cdfffd3",
   "metadata": {},
   "outputs": [],
   "source": [
    "publisher_tester = ros_socket('0.0.0.0', 9090)"
   ]
  },
  {
   "cell_type": "code",
   "execution_count": null,
   "id": "b9cbbd3c",
   "metadata": {},
   "outputs": [],
   "source": [
    "data = {'linear':{'x':0.0, 'y':0.0, 'z':0.0},'angular':{'x':0.0, 'y':0.0, 'z':0.0}}\n",
    "puber = publisher_tester.publisher('/test_publish','geometry_msgs/Twist')\n",
    "for i in range(100):\n",
    "    publisher_tester.pub(puber, data)\n",
    "    time.sleep(0.5)"
   ]
  },
  {
   "cell_type": "code",
   "execution_count": null,
   "id": "94173b5c",
   "metadata": {},
   "outputs": [],
   "source": []
  }
 ],
 "metadata": {
  "kernelspec": {
   "display_name": "Python 3 (ipykernel)",
   "language": "python",
   "name": "python3"
  }
 },
 "nbformat": 4,
 "nbformat_minor": 5
}
