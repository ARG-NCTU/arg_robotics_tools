{
 "cells": [
  {
   "cell_type": "code",
   "execution_count": null,
   "id": "4199c736",
   "metadata": {},
   "outputs": [],
   "source": [
    "#| default_exp random_map"
   ]
  },
  {
   "cell_type": "markdown",
   "id": "29902dc3",
   "metadata": {},
   "source": [
    "# random_map\n",
    "\n",
    "> A toolset for generate random points and map it."
   ]
  },
  {
   "cell_type": "code",
   "execution_count": null,
   "id": "8f2d3ac1",
   "metadata": {},
   "outputs": [],
   "source": [
    "#| hide\n",
    "from nbdev.showdoc import *"
   ]
  },
  {
   "cell_type": "markdown",
   "id": "bec746c9",
   "metadata": {},
   "source": [
    "## Function define part"
   ]
  },
  {
   "cell_type": "code",
   "execution_count": null,
   "id": "f0eae6c6",
   "metadata": {},
   "outputs": [],
   "source": [
    "# |export\n",
    "from random import uniform\n",
    "import matplotlib.pyplot as plt\n",
    "import numpy as np\n",
    "\n",
    "def random_generate(offset_x, offset_y, point_num, area_length_x, area_length_y):\n",
    "    \"\"\"\n",
    "        generate random points with mutiple parameters.\n",
    "        Args:\n",
    "            offset_x : offset for x's range.\n",
    "            offset_y : offset for y's range.\n",
    "            point_num : number of points to generate.\n",
    "            area_length_x : x's range for generate random points.\n",
    "            area_length_y : y's range for generate random points.\n",
    "        Returns:\n",
    "            rand_point_x : list of random points' x coordinate.\n",
    "            rand_point_y : list of random points' y coordinate.\n",
    "    \"\"\"\n",
    "    rand_point_x = []\n",
    "    rand_point_y = []\n",
    "    rand_point_x = [(uniform(-area_length_x/2, area_length_x/2) + offset_x) for _ in range(point_num)]\n",
    "    rand_point_y = [(uniform(-area_length_y/2, area_length_y/2) + offset_y) for _ in range(point_num)]\n",
    "    return rand_point_x, rand_point_y\n",
    "\n",
    "def sub_random_generate(offset_x, offset_y, point_num, area_length_x, area_length_y, sub_area_num, sub_offset_x, sub_offset_y):\n",
    "    \"\"\"\n",
    "        generate random points with mutiple parameters, including sub_area_num and sub_offset.\n",
    "        Args :\n",
    "            offset_x : offset for x's range.\n",
    "            offset_y : offset for y's range.\n",
    "            point_num : number of points to generate.\n",
    "            area_length_x : x's range for generate random points.\n",
    "            area_length_y : y's range for generate random points.\n",
    "            sub_area_num : \n",
    "            sub_offset_x : \n",
    "            sub_offset_y :\n",
    "        Returns :\n",
    "            rand_point_x : list of random points' x coordinate.\n",
    "            rand_point_y : list of random points' y coordinate.\n",
    "        Outputs : \n",
    "            output_point.txt : random points' x and y coordinate.\n",
    "    \"\"\"\n",
    "    rand_point_x = []\n",
    "    rand_point_y = []\n",
    "    path = \"output_point.txt\"\n",
    "    f = open(path, \"w\")\n",
    "    for i in range(sub_area_num):\n",
    "        generated_x = [(uniform(-area_length_x/2 + i*(area_length_x/sub_area_num)+sub_offset_x, -area_length_x/2 + (i+1)*(area_length_x/sub_area_num)-sub_offset_x)\n",
    "            + offset_x) for _ in range(int(point_num/sub_area_num))]\n",
    "        generated_y = [(uniform(-area_length_y/2+sub_offset_y, area_length_y/2-sub_offset_y) + offset_y) for _ in range(int(point_num/sub_area_num))]\n",
    "        rand_point_x.extend(generated_x)\n",
    "        rand_point_y.extend(generated_y)\n",
    "        print(\"Area\", i, \":\", file=f)\n",
    "        for j in range(int(point_num/sub_area_num)):\n",
    "            print(generated_x[j], generated_y[j], file=f)\n",
    "    f.close()\n",
    "    return rand_point_x, rand_point_y\n",
    "\n",
    "def draw_line(sub_area_num, x_min, x_increment, y_min, y_max):\n",
    "    \"\"\"\n",
    "    draw straight line in a plot.\n",
    "    Args:\n",
    "        sub_area_num : number of area that separated by lines.\n",
    "        x_min : where the line starts. \n",
    "        x_increment : distance of two lines.\n",
    "        y_min : line's y lower coordinate.\n",
    "        y_max : line's y upper coordinate.\n",
    "    \"\"\"\n",
    "    \n",
    "    for i in range(sub_area_num):\n",
    "        plt.vlines(x_min, y_min, y_max, color='green')\n",
    "        x_min += x_increment\n",
    "    \n"
   ]
  },
  {
   "cell_type": "markdown",
   "id": "7c588dd6",
   "metadata": {},
   "source": [
    "## Testing example"
   ]
  },
  {
   "cell_type": "markdown",
   "id": "190426d2",
   "metadata": {},
   "source": [
    "we will move to 'data' directory to start all examples, this directory have been added to '.gitignoe' , so is convenient to test in local and light in cloud"
   ]
  },
  {
   "cell_type": "code",
   "execution_count": null,
   "id": "8cac4d49",
   "metadata": {},
   "outputs": [],
   "source": [
    "import matplotlib.pyplot as plt"
   ]
  },
  {
   "cell_type": "code",
   "execution_count": null,
   "id": "ea90ba9a",
   "metadata": {},
   "outputs": [
    {
     "name": "stdout",
     "output_type": "stream",
     "text": [
      "/home/arg/arg_robotics_tools/data\n"
     ]
    }
   ],
   "source": [
    "cd data"
   ]
  },
  {
   "cell_type": "markdown",
   "id": "8c7ee5ce",
   "metadata": {},
   "source": [
    "### random_generater( )\n",
    "generate random points and save it in rand_point_x, rand_point_y."
   ]
  },
  {
   "cell_type": "code",
   "execution_count": null,
   "id": "af613bde",
   "metadata": {},
   "outputs": [],
   "source": [
    "rand_point_x = []\n",
    "rand_point_y = []\n",
    "rand_point_x, rand_point_y = random_generate(offset_x = -143,\n",
    "                                             offset_y = 184,\n",
    "                                             point_num = 100,\n",
    "                                             area_length_x = 200,\n",
    "                                             area_length_y = 50)"
   ]
  },
  {
   "cell_type": "markdown",
   "id": "65ce1d88",
   "metadata": {},
   "source": [
    "plot the lines and points that just generate."
   ]
  },
  {
   "cell_type": "code",
   "execution_count": null,
   "id": "802dcd09",
   "metadata": {},
   "outputs": [
    {
     "data": {
      "text/plain": [
       "[<matplotlib.lines.Line2D at 0x7f9a845646d0>]"
      ]
     },
     "execution_count": null,
     "metadata": {},
     "output_type": "execute_result"
    },
    {
     "data": {
      "image/png": "[encoded data removed]",
      "text/plain": [
       "<Figure size 432x288 with 1 Axes>"
      ]
     },
     "metadata": {
      "needs_background": "light"
     },
     "output_type": "display_data"
    }
   ],
   "source": [
    "draw_line(sub_area_num = 20, \n",
    "          x_min = -233, \n",
    "          x_increment = 10, \n",
    "          y_min = 160, \n",
    "          y_max = 210)\n",
    "plt.plot(rand_point_x, rand_point_y, 'o', color='red')"
   ]
  },
  {
   "cell_type": "markdown",
   "id": "d15af293",
   "metadata": {},
   "source": [
    "### sub_random_generate( )"
   ]
  },
  {
   "cell_type": "markdown",
   "id": "ec77a437",
   "metadata": {},
   "source": [
    "generate sub random points and save it in rand_point_x, rand_point_y."
   ]
  },
  {
   "cell_type": "code",
   "execution_count": null,
   "id": "b3a82cb8",
   "metadata": {},
   "outputs": [],
   "source": [
    "rand_point_x = []\n",
    "rand_point_y = []\n",
    "rand_point_x, rand_point_y = sub_random_generate(offset_x = -143, \n",
    "                                                 offset_y = 184, \n",
    "                                                 point_num = 100, \n",
    "                                                 area_length_x = 200, \n",
    "                                                 area_length_y = 50, \n",
    "                                                 sub_area_num = 20, \n",
    "                                                 sub_offset_x = 10, \n",
    "                                                 sub_offset_y = 10)"
   ]
  },
  {
   "cell_type": "markdown",
   "id": "1ece030a",
   "metadata": {},
   "source": [
    "plot the lines and points that just generate."
   ]
  },
  {
   "cell_type": "code",
   "execution_count": null,
   "id": "8057a3f7",
   "metadata": {},
   "outputs": [
    {
     "data": {
      "text/plain": [
       "[<matplotlib.lines.Line2D at 0x7f9a84351640>]"
      ]
     },
     "execution_count": null,
     "metadata": {},
     "output_type": "execute_result"
    },
    {
     "data": {
      "image/png": "[encoded data removed]",
      "text/plain": [
       "<Figure size 432x288 with 1 Axes>"
      ]
     },
     "metadata": {
      "needs_background": "light"
     },
     "output_type": "display_data"
    }
   ],
   "source": [
    "draw_line(20, -233, 10, 160, 210)\n",
    "plt.plot(rand_point_x, rand_point_y, 'o', color='red')"
   ]
  },
  {
   "cell_type": "code",
   "execution_count": null,
   "id": "627ecfda",
   "metadata": {},
   "outputs": [],
   "source": []
  }
 ],
 "metadata": {
  "kernelspec": {
   "display_name": "Python 3 (ipykernel)",
   "language": "python",
   "name": "python3"
  }
 },
 "nbformat": 4,
 "nbformat_minor": 5
}
