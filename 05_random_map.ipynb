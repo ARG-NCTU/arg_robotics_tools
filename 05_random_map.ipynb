{
 "cells": [
  {
   "cell_type": "code",
   "execution_count": 1,
   "id": "4199c736",
   "metadata": {},
   "outputs": [],
   "source": [
    "# default_exp random_map"
   ]
  },
  {
   "cell_type": "markdown",
   "id": "29902dc3",
   "metadata": {},
   "source": [
    "# random_map\n",
    "\n",
    "> A toolset for ."
   ]
  },
  {
   "cell_type": "code",
   "execution_count": 1,
   "id": "8f2d3ac1",
   "metadata": {},
   "outputs": [],
   "source": [
    "#hide\n",
    "from nbdev.showdoc import *"
   ]
  },
  {
   "cell_type": "code",
   "execution_count": 1,
   "id": "f0eae6c6",
   "metadata": {},
   "outputs": [],
   "source": [
    "#|export\n",
    "from random import uniform\n",
    "import matplotlib.pyplot as plt\n",
    "import numpy as np\n",
    "\n",
    "def random_generate(offset_x, offset_y, point_num, area_length_x, area_length_y):\n",
    "    rand_point_x = []\n",
    "    rand_point_y = []\n",
    "    rand_point_x = [(uniform(-area_length_x/2, area_length_x/2) + offset_x) for _ in range(point_num)]\n",
    "    rand_point_y = [(uniform(-area_length_y/2, area_length_y/2) + offset_y) for _ in range(point_num)]\n",
    "    return rand_point_x, rand_point_y\n",
    "\n",
    "def sub_random_generate(offset_x, offset_y, point_num, area_length_x, area_length_y, sub_area_num, sub_offset_x, sub_offset_y):\n",
    "    rand_point_x = []\n",
    "    rand_point_y = []\n",
    "    path = \"output_point.txt\"\n",
    "    f = open(path, \"w\")\n",
    "    for i in range(sub_area_num):\n",
    "        generated_x = [(uniform(-area_length_x/2 + i*(area_length_x/sub_area_num)+sub_offset_x, -area_length_x/2 + (i+1)*(area_length_x/sub_area_num)-sub_offset_x)\n",
    "            + offset_x) for _ in range(int(point_num/sub_area_num))]\n",
    "        generated_y = [(uniform(-area_length_y/2+sub_offset_y, area_length_y/2-sub_offset_y) + offset_y) for _ in range(int(point_num/sub_area_num))]\n",
    "        rand_point_x.extend(generated_x)\n",
    "        rand_point_y.extend(generated_y)\n",
    "        print(\"Area\", i, \":\", file=f)\n",
    "        for j in range(int(point_num/sub_area_num)):\n",
    "            print(generated_x[j], generated_y[j], file=f)\n",
    "    f.close()\n",
    "    return rand_point_x, rand_point_y\n",
    "\n",
    "def draw_line(sub_area_num, x_min, x_increment, y_min, y_max):\n",
    "    for i in range(sub_area_num):\n",
    "        plt.vlines(x_min, y_min, y_max, color='green')\n",
    "        x_min += x_increment\n",
    "    \n"
   ]
  },
  {
   "cell_type": "markdown",
   "id": "7c588dd6",
   "metadata": {},
   "source": [
    "## Testing example"
   ]
  },
  {
   "cell_type": "code",
   "execution_count": 2,
   "id": "8cac4d49",
   "metadata": {},
   "outputs": [],
   "source": [
    "import matplotlib.pyplot as plt\n"
   ]
  },
  {
   "cell_type": "code",
   "execution_count": 4,
   "id": "ea90ba9a",
   "metadata": {},
   "outputs": [
    {
     "name": "stdout",
     "output_type": "stream",
     "text": [
      "[Errno 2] No such file or directory: 'data'\n",
      "/home/arg/arg_robotics_tools/data\n"
     ]
    }
   ],
   "source": [
    "cd data"
   ]
  },
  {
   "cell_type": "code",
   "execution_count": 5,
   "id": "af613bde",
   "metadata": {},
   "outputs": [],
   "source": [
    "rand_point_x = []\n",
    "rand_point_y = []\n",
    "rand_point_x, rand_point_y = random_generate(-143, 184, 100, 200, 50)"
   ]
  },
  {
   "cell_type": "code",
   "execution_count": 6,
   "id": "802dcd09",
   "metadata": {},
   "outputs": [
    {
     "data": {
      "text/plain": [
       "[<matplotlib.lines.Line2D at 0x7f5d564b7ee0>]"
      ]
     },
     "execution_count": 6,
     "metadata": {},
     "output_type": "execute_result"
    },
    {
     "data": {
      "image/png": "[encoded data removed]",
      "text/plain": [
       "<Figure size 432x288 with 1 Axes>"
      ]
     },
     "metadata": {
      "needs_background": "light"
     },
     "output_type": "display_data"
    }
   ],
   "source": [
    "draw_line(20, -233, 10, 160, 210)\n",
    "plt.plot(rand_point_x, rand_point_y, 'o', color='red')"
   ]
  },
  {
   "cell_type": "code",
   "execution_count": 7,
   "id": "b3a82cb8",
   "metadata": {},
   "outputs": [],
   "source": [
    "rand_point_x = []\n",
    "rand_point_y = []\n",
    "rand_point_x, rand_point_y = sub_random_generate(-143, 184, 100, 200, 50, 20, 2, 5)"
   ]
  },
  {
   "cell_type": "code",
   "execution_count": 8,
   "id": "8057a3f7",
   "metadata": {},
   "outputs": [
    {
     "data": {
      "text/plain": [
       "[<matplotlib.lines.Line2D at 0x7f5d562fcca0>]"
      ]
     },
     "execution_count": 8,
     "metadata": {},
     "output_type": "execute_result"
    },
    {
     "data": {
      "image/png": "[encoded data removed]",
      "text/plain": [
       "<Figure size 432x288 with 1 Axes>"
      ]
     },
     "metadata": {
      "needs_background": "light"
     },
     "output_type": "display_data"
    }
   ],
   "source": [
    "draw_line(20, -233, 10, 160, 210)\n",
    "plt.plot(rand_point_x, rand_point_y, 'o', color='red')"
   ]
  },
  {
   "cell_type": "code",
   "execution_count": null,
   "id": "05ce4cc8",
   "metadata": {},
   "outputs": [],
   "source": []
  }
 ],
 "metadata": {
  "kernelspec": {
   "display_name": "Python 3 (ipykernel)",
   "language": "python",
   "name": "python3"
  },
  "language_info": {
   "codemirror_mode": {
    "name": "ipython",
    "version": 3
   },
   "file_extension": ".py",
   "mimetype": "text/x-python",
   "name": "python",
   "nbconvert_exporter": "python",
   "pygments_lexer": "ipython3",
   "version": "3.8.10"
  }
 },
 "nbformat": 4,
 "nbformat_minor": 5
}
