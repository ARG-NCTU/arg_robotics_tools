{
 "cells": [
  {
   "cell_type": "code",
   "execution_count": null,
   "metadata": {},
   "outputs": [],
   "source": [
    "# default_exp uwb"
   ]
  },
  {
   "cell_type": "markdown",
   "metadata": {},
   "source": [
    "# uwb"
   ]
  },
  {
   "cell_type": "code",
   "execution_count": null,
   "metadata": {},
   "outputs": [],
   "source": [
    "#hide\n",
    "from nbdev.showdoc import *"
   ]
  },
  {
   "cell_type": "markdown",
   "metadata": {},
   "source": [
    "## Function define part"
   ]
  },
  {
   "cell_type": "code",
   "execution_count": null,
   "metadata": {},
   "outputs": [],
   "source": [
    "# |export\n",
    "import yaml\n",
    "import pypozyx\n",
    "from pypozyx import NetworkID, Coordinates, PozyxSerial, DeviceCoordinates, DeviceRange, PozyxConstants\n",
    "from pypozyx.core import PozyxException"
   ]
  },
  {
   "cell_type": "code",
   "execution_count": null,
   "metadata": {},
   "outputs": [],
   "source": [
    "# |export\n",
    "class UWB():\n",
    "    def __init__(self, port = None):\n",
    "        self.port = port\n",
    "        self._network_id = None\n",
    "        self._pozyx_handler = None        \n",
    "        self._pose = None\n",
    "        self._env_config = None\n",
    "        \n",
    "        #TODO: Make height parameterized\n",
    "        self._height = 500\n",
    "        \n",
    "    @property\n",
    "    def network_id(self):\n",
    "        return self._network_id\n",
    "    \n",
    "    @network_id.setter\n",
    "    def network_id(self, value=None):\n",
    "        if value is None:\n",
    "            self._network_id = NetworkID()\n",
    "        else:\n",
    "            self._network_id = NetworkID(value)\n",
    "        \n",
    "    @property\n",
    "    def port(self):\n",
    "        return self._port\n",
    "    \n",
    "    @port.setter\n",
    "    def port(self, port):\n",
    "        self._port = port\n",
    "        \n",
    "    @property\n",
    "    def pose(self):\n",
    "        return self._pose\n",
    "    \n",
    "    @pose.setter\n",
    "    def pose(self, value=None):\n",
    "        if value is None:\n",
    "            self._pose = Coordinates()\n",
    "        else:\n",
    "            self._pose.x = value[0]\n",
    "            self._pose.y = value[1]\n",
    "            self._pose.z = value[2]\n",
    "    \n",
    "    @property\n",
    "    def env_config(self):\n",
    "        return self._env_config\n",
    "    \n",
    "    def load_env_config(self, config_file_path: str) -> bool:\n",
    "        \"\"\"\n",
    "        Load UWB anchors' environment config.\n",
    "        \n",
    "        Args:\n",
    "            config_file_path (str): The environment config file path.\n",
    "            \n",
    "        Returns:\n",
    "            bool: True for success, False for failure.\n",
    "        \"\"\"\n",
    "        with open(config_file_path, 'r') as config_file:\n",
    "            try:\n",
    "                self._env_config = yaml.safe_load(config_file)\n",
    "            except yaml.YAMLError as ex:\n",
    "                print(ex)\n",
    "                return False\n",
    "        return True\n",
    "    \n",
    "    def connect(self):\n",
    "        if self.port is None:\n",
    "            #TODO:\n",
    "            pass\n",
    "        else:\n",
    "            try:\n",
    "                self.pozyx_handler = PozyxSerial(self.port)\n",
    "            except PozyxException:\n",
    "                #TODO:\n",
    "                pass\n",
    "    \n",
    "    def write_device(self):\n",
    "        ANCHOR_FLAG = 1\n",
    "        self.pozyx_handler.clearDevices()\n",
    "        for anchor_name, config in self.env_config:\n",
    "            coordinate = Coordinates(config['x'], config['y'], config['z'])\n",
    "            device_coordinate = DeviceCoordinates(config['id'], ANCHOR_FLAG, coordinate)\n",
    "            self.pozyx_handler.addDevice(device_coordinate)\n",
    "            self.pozyx_handler.setSelectionOfAnchorsAutomatic(len(self.env_config))\n",
    "    \n",
    "    #TODO: Seperate localize of differ dimensions and height\n",
    "    def localize(self, dest_id):\n",
    "        self.pozyx_handler.doPosition(self.pose, PozyxConstants.DIMENSION_3D, self._height, PozyxConstants.POSITIONING_ALGORITHM_UWB_ONLY, )\n",
    "        \n",
    "    def range(self, dest_id):\n",
    "        ranges = DeviceRange()\n",
    "        self.pozyx_handler.doRanging(dest_id, ranges)\n",
    "        return ranges"
   ]
  },
  {
   "cell_type": "markdown",
   "metadata": {},
   "source": [
    "## Testing example\n"
   ]
  },
  {
   "cell_type": "code",
   "execution_count": null,
   "metadata": {},
   "outputs": [],
   "source": [
    "!cat duckiepond-devices/ee6f_uwb.yaml"
   ]
  },
  {
   "cell_type": "code",
   "execution_count": null,
   "metadata": {},
   "outputs": [],
   "source": [
    "uwb = UWB()\n",
    "#TODO: Add scan port method\n",
    "ports = pypozyx.get_pozyx_ports()\n",
    "print(ports[0])\n",
    "uwb.port = ports[0]\n",
    "uwb.connect()\n",
    "my_id = pypozyx.NetworkID()\n",
    "uwb.pozyx_handler.getNetworkId(my_id)\n",
    "uwb.load_env_config('data/duckiepond-devices/ee6f_uwb.yaml')\n",
    "print(my_id)"
   ]
  },
  {
   "cell_type": "code",
   "execution_count": null,
   "metadata": {},
   "outputs": [],
   "source": [
    "import time\n",
    "for i in range(5):\n",
    "    print(uwb.range(0x6a27), end='\\r')\n",
    "    time.sleep(0.2)"
   ]
  }
 ],
 "metadata": {
  "kernelspec": {
   "display_name": "Python 3 (ipykernel)",
   "language": "python",
   "name": "python3"
  }
 },
 "nbformat": 4,
 "nbformat_minor": 2
}
