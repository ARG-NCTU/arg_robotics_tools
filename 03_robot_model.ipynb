{
 "cells": [
  {
   "cell_type": "code",
   "execution_count": null,
   "id": "b52fe847",
   "metadata": {},
   "outputs": [],
   "source": [
    "# default_exp robot_model"
   ]
  },
  {
   "cell_type": "markdown",
   "id": "3be2e73f",
   "metadata": {},
   "source": [
    "# robot_model\n",
    "> A toolset for arg all robot model"
   ]
  },
  {
   "cell_type": "code",
   "execution_count": null,
   "id": "3f43f147",
   "metadata": {},
   "outputs": [],
   "source": [
    "# hide\n",
    "from nbdev.showdoc import * "
   ]
  },
  {
   "cell_type": "code",
   "execution_count": null,
   "id": "2d2adb48",
   "metadata": {},
   "outputs": [],
   "source": [
    "#|export\n",
    "#nbdev_comment from __future__ import print_function\n",
    "\n",
    "import gdown\n",
    "from zipfile import ZipFile\n",
    "import xml.etree.cElementTree as ET\n",
    "from urdfpy import URDF\n",
    "import os\n",
    "\n",
    "class robot_model_loader:\n",
    "    def __init__(self, url, name):\n",
    "        self.url = url\n",
    "        self.name = name\n",
    "        \n",
    "    def load(self):\n",
    "        \"\"\"\n",
    "            download a zipfile and unzip it under data directory\n",
    "        \"\"\"\n",
    "        dataset_url = 'https://drive.google.com/u/1/uc?id=' + self.url\n",
    "        dataset_name = self.name\n",
    "        \n",
    "        gdown.download(dataset_url, output=dataset_name + '.zip', quiet=False)\n",
    "        zip = ZipFile(dataset_name + '.zip')\n",
    "        zip.extractall(dataset_name)\n",
    "        zip.close()\n",
    "        \n",
    "    def list_all(self):\n",
    "        \"\"\"\n",
    "            list all urdf or xml file\n",
    "        \"\"\"\n",
    "        for file in os.listdir(self.name):\n",
    "            if file.find('.urdf') != -1 or file.find('.xml') != -1:\n",
    "                print(file,'\\n')\n",
    "        \n",
    "    def show_link(self, path):\n",
    "        \"\"\"\n",
    "            show urdf file link \n",
    "        \"\"\"\n",
    "        \n",
    "        robot = URDF.load(path)\n",
    "        \n",
    "        for link in robot.links:\n",
    "            print(link.name)"
   ]
  },
  {
   "cell_type": "markdown",
   "id": "bade55e8",
   "metadata": {},
   "source": [
    "# Testing example\n",
    "\n",
    "id is the google drive id, filename is your filename in google drive (should be a .zip file )"
   ]
  },
  {
   "cell_type": "code",
   "execution_count": null,
   "id": "74e20973",
   "metadata": {},
   "outputs": [],
   "source": [
    "id = \"1ryZjEXu4xCGIK5vp2fuIqYTl4sUWKjaS\"\n",
    "name = \"husky_ur5\"\n",
    "robot = robot_model_loader(id, name)"
   ]
  },
  {
   "cell_type": "code",
   "execution_count": null,
   "id": "f6cc3494",
   "metadata": {},
   "outputs": [
    {
     "name": "stderr",
     "output_type": "stream",
     "text": [
      "Downloading...\n",
      "From: https://drive.google.com/u/1/uc?id=1ryZjEXu4xCGIK5vp2fuIqYTl4sUWKjaS\n",
      "To: /home/arg/arg_robotics_tools/husky_ur5.zip\n",
      "100%|█████████████████████████████████████████████| 7.41M/7.41M [00:00<00:00, 77.2MB/s]\n"
     ]
    }
   ],
   "source": [
    "robot.load()"
   ]
  },
  {
   "cell_type": "code",
   "execution_count": null,
   "id": "f9e290b4",
   "metadata": {},
   "outputs": [
    {
     "name": "stdout",
     "output_type": "stream",
     "text": [
      "00_utils.ipynb              README.md             \u001b[0m\u001b[01;34mdocs\u001b[0m/\r\n",
      "01_camera_projection.ipynb  \u001b[01;34mViperX_apriltags\u001b[0m/     \u001b[01;34mhusky_ur5\u001b[0m/\r\n",
      "02_video2picture.ipynb      \u001b[01;31mViperX_apriltags.zip\u001b[0m  \u001b[01;31mhusky_ur5.zip\u001b[0m\r\n",
      "03_robot_model.ipynb        \u001b[01;34marg_robotics_tools\u001b[0m/   index.ipynb\r\n",
      "CONTRIBUTING.md             \u001b[01;36mcolab_jupyter.sh\u001b[0m@     settings.ini\r\n",
      "\u001b[01;34mDocker\u001b[0m/                     \u001b[01;34mdata\u001b[0m/                 setup.py\r\n",
      "LICENSE                     docker-compose.yml    tags\r\n",
      "MANIFEST.in                 \u001b[01;36mdocker_join.sh\u001b[0m@\r\n",
      "Makefile                    \u001b[01;36mdocker_run.sh\u001b[0m@\r\n"
     ]
    }
   ],
   "source": [
    "ls"
   ]
  },
  {
   "cell_type": "code",
   "execution_count": null,
   "id": "f1c0dd44",
   "metadata": {},
   "outputs": [
    {
     "name": "stdout",
     "output_type": "stream",
     "text": [
      "husky_ur5.xml \n",
      "\n",
      "husky_ur5.urdf \n",
      "\n"
     ]
    }
   ],
   "source": [
    "robot.list_all()"
   ]
  },
  {
   "cell_type": "code",
   "execution_count": null,
   "id": "41193556",
   "metadata": {},
   "outputs": [
    {
     "name": "stderr",
     "output_type": "stream",
     "text": [
      "face_normals all zero, ignoring!\n",
      "face_normals all zero, ignoring!\n",
      "face_normals all zero, ignoring!\n",
      "face_normals all zero, ignoring!\n",
      "face_normals all zero, ignoring!\n",
      "face_normals all zero, ignoring!\n",
      "face_normals all zero, ignoring!\n"
     ]
    },
    {
     "name": "stdout",
     "output_type": "stream",
     "text": [
      "base_link\n",
      "base_footprint\n",
      "inertial_link\n",
      "imu_link\n",
      "front_left_wheel_link\n",
      "front_right_wheel_link\n",
      "rear_left_wheel_link\n",
      "rear_right_wheel_link\n",
      "top_chassis_link\n",
      "user_rail_link\n",
      "front_bumper_link\n",
      "rear_bumper_link\n",
      "top_plate_link\n",
      "top_plate_front_link\n",
      "top_plate_rear_link\n",
      "ur5/base_link\n",
      "ur5/shoulder_link\n",
      "ur5/upper_arm_link\n",
      "ur5/forearm_link\n",
      "ur5/wrist_1_link\n",
      "ur5/wrist_2_link\n",
      "ur5/wrist_3_link\n",
      "ur5/ee_link\n",
      "ur5/base\n",
      "ur5/tool0\n",
      "ft300_sensor\n",
      "ft300_mounting_plate\n",
      "robotiq_ft_frame_id\n",
      "gripper_base_link\n",
      "gripper_finger1_knuckle_link\n",
      "gripper_finger2_knuckle_link\n",
      "gripper_finger1_finger_link\n",
      "gripper_finger2_finger_link\n",
      "gripper_finger1_inner_knuckle_link\n",
      "gripper_finger2_inner_knuckle_link\n",
      "gripper_finger1_finger_tip_link\n",
      "gripper_finger2_finger_tip_link\n",
      "bumper_gripper_link\n"
     ]
    }
   ],
   "source": [
    "robot.show_link(\"husky_ur5/husky_ur5.urdf\")"
   ]
  },
  {
   "cell_type": "code",
   "execution_count": null,
   "id": "7138fa40",
   "metadata": {},
   "outputs": [],
   "source": []
  }
 ],
 "metadata": {
  "kernelspec": {
   "display_name": "Python 3 (ipykernel)",
   "language": "python",
   "name": "python3"
  }
 },
 "nbformat": 4,
 "nbformat_minor": 5
}
